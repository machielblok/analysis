{
 "metadata": {
  "name": ""
 },
 "nbformat": 3,
 "nbformat_minor": 0,
 "worksheets": [
  {
   "cells": [
    {
     "cell_type": "markdown",
     "metadata": {},
     "source": [
      "TODO\n",
      "\n",
      "* analysis of tailcounts / shot t-dependent during run\n",
      "\n",
      "* CR time histograms for both lt1 and lt2?\n",
      "\n",
      "* finish repump histograms\n",
      "\n",
      "* more flexible plotting of photon time hists\n",
      "\n",
      "Analysis vs runs\n",
      "\n",
      "* tailcounts vs run\n",
      "\n",
      "* sequence starts vs run\n"
     ]
    },
    {
     "cell_type": "code",
     "collapsed": false,
     "input": [
      "import sys\n",
      "sys.path.append(r'/Users/wp/Documents/Code/python_libs/adsy-python/lib')\n",
      "from adsy.ipython import *\n",
      "extended_styles()"
     ],
     "language": "python",
     "metadata": {},
     "outputs": [
      {
       "html": [
        "\n",
        "        <script type=\"text/javascript\">\n",
        "        var toggleInput;\n",
        "        (function() {\n",
        "            var inputInterval;\n",
        "            var intervalCount = 0;\n",
        "            var init = false;\n",
        "            var inputUp = false;\n",
        "            toggleInput = function() {\n",
        "                if(inputUp) {\n",
        "                    $('div.input').slideDown();\n",
        "                    $('div.code_cell').attr('style', '');\n",
        "                }\n",
        "                else {\n",
        "                    $('div.input').slideUp();\n",
        "                    $('div.code_cell').attr('style', 'padding: 0px; margin: 0px');\n",
        "                }\n",
        "                inputUp = !inputUp;\n",
        "                init = true;\n",
        "            }\n",
        "            function initExtendedStyles() {\n",
        "                if(intervalCount > 15) {\n",
        "                    clearInterval(inputInterval);\n",
        "                }\n",
        "                intervalCount += 1;\n",
        "                try {\n",
        "                    toggleInput();\n",
        "                    clearInterval(inputInterval);\n",
        "                } catch(e) {}\n",
        "            }\n",
        "            if (typeof jQuery == 'undefined') {\n",
        "                // if jQuery Library is not loaded\n",
        "                var script = document.createElement( 'script' );\n",
        "                script.type = 'text/javascript';\n",
        "                script.src = 'https://ajax.googleapis.com/ajax/libs/jquery/1.8.3/jquery.min.js';\n",
        "                document.body.appendChild(script);\n",
        "            }\n",
        "\n",
        "            setTimeout(initExtendedStyles, 200);\n",
        "            // jQuery is doing this interval trick\n",
        "            // I guess its the way to do it then.\n",
        "            inputInterval = setInterval(initExtendedStyles, 1000);\n",
        "        }());\n",
        "        </script>\n",
        "       <a href=\"javascript:toggleInput()\">Toggle Input</a>\n",
        "        "
       ],
       "metadata": {},
       "output_type": "pyout",
       "prompt_number": 248,
       "text": [
        "<IPython.core.display.HTML at 0x10fc9b250>"
       ]
      }
     ],
     "prompt_number": 248
    },
    {
     "cell_type": "code",
     "collapsed": false,
     "input": [
      "import h5py\n",
      "import os\n",
      "import string\n",
      "import time\n",
      "import pprint\n",
      "\n",
      "### where all our code is on the lab computers\n",
      "if not r'd:\\measuring' in sys.path:\n",
      "    sys.path.append(r'd:\\measuring')\n",
      "\n",
      "### where all our code is on my mac (wolfgang)\n",
      "# if not r'/Users/wp/Documents/TUD/Code/measuring' in sys.path:\n",
      "#     sys.path.append(r'/Users/wp/Documents/TUD/Code/measuring')\n",
      "    \n",
      "from analysis.lib.fitting import fit\n",
      "from analysis.lib import tools\n",
      "from analysis.lib.teleportation import events, files, plots, settings\n",
      "reload(events)\n",
      "reload(files)\n",
      "reload(plots)\n",
      "reload(settings)\n",
      "\n",
      "# %qtconsole"
     ],
     "language": "python",
     "metadata": {},
     "outputs": [
      {
       "metadata": {},
       "output_type": "pyout",
       "prompt_number": 1,
       "text": [
        "<module 'analysis.lib.teleportation.settings' from 'd:\\measuring\\analysis\\lib\\teleportation\\settings.pyc'>"
       ]
      }
     ],
     "prompt_number": 1
    },
    {
     "cell_type": "heading",
     "level": 4,
     "metadata": {},
     "source": [
      "Methods for time-filtering of events"
     ]
    },
    {
     "cell_type": "code",
     "collapsed": false,
     "input": [
      "# methods for time-filtering on the tail\n",
      "def filter_synctimes(synctimes, t0, t1):\n",
      "    period = settings.PIPULSESEP\n",
      "    reps = settings.PIPULSES\n",
      "    for r in range(reps):\n",
      "        if r == 0:\n",
      "            fltr = (synctimes >= t0) & (synctimes <= t1)\n",
      "        else:\n",
      "            fltr = fltr | (synctimes >= (r * period + t0)) & (synctimes <= (r * period + t1))\n",
      "    return fltr"
     ],
     "language": "python",
     "metadata": {},
     "outputs": [],
     "prompt_number": 2
    },
    {
     "cell_type": "heading",
     "level": 4,
     "metadata": {},
     "source": [
      "Methods for g2-computing"
     ]
    },
    {
     "cell_type": "code",
     "collapsed": false,
     "input": [
      "# calculation of coincidences between the two detectors\n",
      "\n",
      "def get_coincidences(fp):\n",
      "    if has_analysis_data(fp, 'coincidences') and not FORCE_COINCIDENCE_EVALUATION:\n",
      "        c, c_attrs = get_analysis_data(fp, 'coincidences')\n",
      "        return c        \n",
      "    \n",
      "    f = h5py.File(fp, 'r')\n",
      "    sync_time_ns = f['/HH_sync_time-1'].value * 1e-3\n",
      "    time_ns = f['/HH_time-1'].value * 1e-3\n",
      "    sync_number = f['/HH_sync_number-1'].value\n",
      "    f.close()\n",
      "    \n",
      "    ph0, ph1 = get_photons(fp)\n",
      "    st0 = sync_time_ns[ph0]\n",
      "    st1 = sync_time_ns[ph1]\n",
      "    \n",
      "    # thin down a bit with loose filtering\n",
      "    fltr0 = filter_synctimes(st0, LOOSE_CH0_START, LOOSE_CH0_STOP)\n",
      "    fltr1 = filter_synctimes(st1, LOOSE_CH1_START, LOOSE_CH1_STOP)\n",
      "    \n",
      "    st0 = st0[fltr0]\n",
      "    st1 = st1[fltr1]\n",
      "    t0 = time_ns[ph0][fltr0]\n",
      "    t1 = time_ns[ph1][fltr1]\n",
      "    sn0 = sync_number[ph0][fltr0]\n",
      "    sn1 = sync_number[ph1][fltr1]\n",
      "    \n",
      "    samesync0 = in1d(sn0, sn1)\n",
      "    samesync1 = in1d(sn1, sn0)\n",
      "    \n",
      "    c_st0 = st0[samesync0]\n",
      "    c_st1 = st1[samesync1]\n",
      "    c_t0 = t0[samesync0]\n",
      "    c_sn0 = sn0[samesync0]\n",
      "    c_t1 = t1[samesync1]\n",
      "    c_sn1 = sn1[samesync1]\n",
      "    \n",
      "    coincidences = empty((0,4))\n",
      "    for _sn0, _t0, _st0 in zip(c_sn0, c_t0, c_st0):\n",
      "        _c = c_sn1==_sn0\n",
      "        \n",
      "        for _t1, _st1 in zip(c_t1[_c], c_st1[_c]):\n",
      "            dt = _t0 - _t1\n",
      "            coincidences = vstack((coincidences, array([dt, _st0, _st1, _sn0])))\n",
      "            \n",
      "    if save:\n",
      "        set_analysis_data(fp, 'coincidences', coincidences,\n",
      "                          columns=('dt = ch0-ch1 (ns)', 'sync_time ch0 (ns)', 'sync_time ch1 (ns)', 'sync number'))\n",
      "            \n",
      "    return coincidences\n",
      "\n",
      "\n",
      "def get_coincidences_from_folder(folder):    \n",
      "    filepaths = get_all_msmt_filepaths(folder)\n",
      "    for i,f in enumerate(filepaths):\n",
      "        if i == 0:\n",
      "            co = get_coincidences(f)\n",
      "        else:\n",
      "            co = vstack((co, get_coincidences(f)))\n",
      "    return co\n",
      "\n",
      "def filter_coincidences(coincidences, **kw):\n",
      "    channel_delay = kw.pop('channel_delay', CHANNELDELAY)\n",
      "    ch0_start = kw.get('ch0_start', CH0_START)\n",
      "    ch1_start = CH0_START - channel_delay\n",
      "    length = kw.pop('length', CH0_STOP - CH0_START)\n",
      "    \n",
      "    f_st0 = filter_synctimes(coincidences[:,1], ch0_start, ch0_start+length)\n",
      "    f_st1 = filter_synctimes(coincidences[:,2], ch1_start, ch1_start+length)\n",
      "            \n",
      "    return f_st0 & f_st1 # & f_dt\n",
      "    \n",
      "\n",
      "### plotting\n",
      "def _plot_coincidences(ax, dts, **kw):\n",
      "    #color = kw.pop('color', COLORS[0])\n",
      "    #lw = kw.pop('lw', 0)\n",
      "    \n",
      "    ax.hist(dts, bins=G2_BINEDGES, color=color, lw=lw)\n",
      "    ax.set_xlabel('dt (ns)')\n",
      "    ax.set_ylabel('coincidences')\n",
      "    \n",
      "def plot_coincidences(fp, filter=True, **kw):\n",
      "    coincidences = get_coincidences(fp, **kw)\n",
      "    dts = coincidences[:,0] - CHANNELDELAY\n",
      "    \n",
      "    # some (default) filtering\n",
      "    if filter:\n",
      "        f_st0 = filter_synctimes(coincidences[:,1], CH0_START, CH0_STOP)\n",
      "        f_st1 = filter_synctimes(coincidences[:,2], CH1_START, CH1_STOP)\n",
      "        dts = dts[f_st0 & f_st1]\n",
      "    \n",
      "    fig, ax = subplots(1,1, figsize=(6,4))\n",
      "    _plot_coincidences(ax, dts)\n",
      "    \n",
      "    fig.suptitle(get_msmt_header(fp) + ' -- coincidences')\n",
      "    folder, _fn = os.path.split(fp)\n",
      "    fig.savefig(os.path.join(folder, 'coincidences.png'))"
     ],
     "language": "python",
     "metadata": {},
     "outputs": [],
     "prompt_number": 3
    },
    {
     "cell_type": "heading",
     "level": 1,
     "metadata": {},
     "source": [
      "Analysis run"
     ]
    },
    {
     "cell_type": "heading",
     "level": 2,
     "metadata": {},
     "source": [
      "Analyse a single experiment run"
     ]
    },
    {
     "cell_type": "code",
     "collapsed": false,
     "input": [
      "BASE_FOLDER_WPMAC = r'/Users/wp/Documents/TUD/Teleportation/Experiments/Data'\n",
      "BASE_FOLDER_LABANALYSIS = r'X:\\data\\20140609'\n",
      "# HWP_IN_FOLDER = BASE_FOLDER_LABANALYSIS + '/TPQI-001/HWP_in'\n",
      "# HWP_OUT_FOLDER = BASE_FOLDER_LABANALYSIS + '/TPQI-001/HWP_out'\n",
      "\n",
      "# re-evaluations\n",
      "FORCE_PHOTONHIST_EVALUATION = False # False\n",
      "FORCE_COINCIDENCE_EVALUATION = False\n",
      "\n",
      "# tail settings\n",
      "PHOTONHIST_BINEDGES = arange(-0.1,3000.2,0.2)\n",
      "\n",
      "# loose filtering (thinning down, needs more filtering later)\n",
      "LOOSE_TAIL_LENGTH = 100\n",
      "LOOSE_CH0_START = 89\n",
      "LOOSE_CH1_START = 78.5\n",
      "LOOSE_CH0_STOP = LOOSE_CH0_START + LOOSE_TAIL_LENGTH\n",
      "LOOSE_CH1_STOP = LOOSE_CH1_START + LOOSE_TAIL_LENGTH\n",
      "\n",
      "# G2 settings\n",
      "G2_BINEDGES = arange(-4*600-100, 4*600+300, 200)\n",
      "G2_BINCNTRS = arange(-4*600, 5*600, 600)\n",
      "\n",
      "def analyze_single_run(fp):\n",
      "    # tail\n",
      "    plots.plot_photon_hist(fp)\n",
      "    # plot_tail(fp)\n",
      "    \n",
      "    # CR information\n",
      "    # plot_CR_hist_total(fp)\n",
      "    # plot_CR_hist_sequence_timeout(fp)\n",
      "    \n",
      "    # coincidences\n",
      "    # plot_coincidences(fp)\n",
      "    \n",
      "def analyze_runs(folder):\n",
      "    fps = get_all_msmt_filepaths(folder)\n",
      "    for fp in fps:\n",
      "        try:\n",
      "            analyze_single_run(fp)\n",
      "        except:\n",
      "            'Skip this one... Check for write protection:'\n",
      "            print fp\n",
      "            print\n",
      "        close('all')\n",
      "\n",
      "# which folder to look at\n",
      "RUN_FOLDER = os.path.join(BASE_FOLDER_LABANALYSIS,\n",
      "                          r'183156_Bell_BS_tpqi_parallel_BS_lt1_tail_dac3_m1500_Ey')\n",
      "fp = files.get_msmt_fp(RUN_FOLDER)\n",
      "analyze_single_run(fp)\n",
      "\n",
      "# analyze_runs('/Users/wp/Documents/TUD/Teleportation/Experiments/Data/TPQI-fixes')"
     ],
     "language": "python",
     "metadata": {},
     "outputs": [
      {
       "ename": "KeyError",
       "evalue": "\"unable to open object (Symbol table: Can't open object)\"",
       "output_type": "pyerr",
       "traceback": [
        "\u001b[1;31m---------------------------------------------------------------------------\u001b[0m\n\u001b[1;31mKeyError\u001b[0m                                  Traceback (most recent call last)",
        "\u001b[1;32m<ipython-input-27-b0ce491f08fa>\u001b[0m in \u001b[0;36m<module>\u001b[1;34m()\u001b[0m\n\u001b[0;32m     49\u001b[0m                           r'183156_Bell_BS_tpqi_parallel_BS_lt1_tail_dac3_m1500_Ey')\n\u001b[0;32m     50\u001b[0m \u001b[0mfp\u001b[0m \u001b[1;33m=\u001b[0m \u001b[0mfiles\u001b[0m\u001b[1;33m.\u001b[0m\u001b[0mget_msmt_fp\u001b[0m\u001b[1;33m(\u001b[0m\u001b[0mRUN_FOLDER\u001b[0m\u001b[1;33m)\u001b[0m\u001b[1;33m\u001b[0m\u001b[0m\n\u001b[1;32m---> 51\u001b[1;33m \u001b[0manalyze_single_run\u001b[0m\u001b[1;33m(\u001b[0m\u001b[0mfp\u001b[0m\u001b[1;33m)\u001b[0m\u001b[1;33m\u001b[0m\u001b[0m\n\u001b[0m\u001b[0;32m     52\u001b[0m \u001b[1;33m\u001b[0m\u001b[0m\n\u001b[0;32m     53\u001b[0m \u001b[1;31m# analyze_runs('/Users/wp/Documents/TUD/Teleportation/Experiments/Data/TPQI-fixes')\u001b[0m\u001b[1;33m\u001b[0m\u001b[1;33m\u001b[0m\u001b[0m\n",
        "\u001b[1;32m<ipython-input-27-b0ce491f08fa>\u001b[0m in \u001b[0;36manalyze_single_run\u001b[1;34m(fp)\u001b[0m\n\u001b[0;32m     24\u001b[0m \u001b[1;32mdef\u001b[0m \u001b[0manalyze_single_run\u001b[0m\u001b[1;33m(\u001b[0m\u001b[0mfp\u001b[0m\u001b[1;33m)\u001b[0m\u001b[1;33m:\u001b[0m\u001b[1;33m\u001b[0m\u001b[0m\n\u001b[0;32m     25\u001b[0m     \u001b[1;31m# tail\u001b[0m\u001b[1;33m\u001b[0m\u001b[1;33m\u001b[0m\u001b[0m\n\u001b[1;32m---> 26\u001b[1;33m     \u001b[0mplots\u001b[0m\u001b[1;33m.\u001b[0m\u001b[0mplot_photon_hist\u001b[0m\u001b[1;33m(\u001b[0m\u001b[0mfp\u001b[0m\u001b[1;33m)\u001b[0m\u001b[1;33m\u001b[0m\u001b[0m\n\u001b[0m\u001b[0;32m     27\u001b[0m     \u001b[1;31m# plot_tail(fp)\u001b[0m\u001b[1;33m\u001b[0m\u001b[1;33m\u001b[0m\u001b[0m\n\u001b[0;32m     28\u001b[0m \u001b[1;33m\u001b[0m\u001b[0m\n",
        "\u001b[1;32md:\\measuring\\analysis\\lib\\teleportation\\plots.pyc\u001b[0m in \u001b[0;36mplot_photon_hist\u001b[1;34m(fp, **kw)\u001b[0m\n\u001b[0;32m     30\u001b[0m     \u001b[0mret\u001b[0m \u001b[1;33m=\u001b[0m \u001b[0mkw\u001b[0m\u001b[1;33m.\u001b[0m\u001b[0mpop\u001b[0m\u001b[1;33m(\u001b[0m\u001b[1;34m'ret'\u001b[0m\u001b[1;33m,\u001b[0m \u001b[1;34m'subplots'\u001b[0m\u001b[1;33m)\u001b[0m\u001b[1;33m\u001b[0m\u001b[0m\n\u001b[0;32m     31\u001b[0m \u001b[1;33m\u001b[0m\u001b[0m\n\u001b[1;32m---> 32\u001b[1;33m     \u001b[1;33m(\u001b[0m\u001b[0mh0\u001b[0m\u001b[1;33m,\u001b[0m \u001b[0mb0\u001b[0m\u001b[1;33m)\u001b[0m\u001b[1;33m,\u001b[0m \u001b[1;33m(\u001b[0m\u001b[0mh1\u001b[0m\u001b[1;33m,\u001b[0m \u001b[0mb1\u001b[0m\u001b[1;33m)\u001b[0m \u001b[1;33m=\u001b[0m \u001b[0mevents\u001b[0m\u001b[1;33m.\u001b[0m\u001b[0mget_photon_hist\u001b[0m\u001b[1;33m(\u001b[0m\u001b[0mfp\u001b[0m\u001b[1;33m,\u001b[0m \u001b[1;33m**\u001b[0m\u001b[0mkw\u001b[0m\u001b[1;33m)\u001b[0m\u001b[1;33m\u001b[0m\u001b[0m\n\u001b[0m\u001b[0;32m     33\u001b[0m \u001b[1;33m\u001b[0m\u001b[0m\n\u001b[0;32m     34\u001b[0m     \u001b[0mfig\u001b[0m\u001b[1;33m,\u001b[0m \u001b[1;33m(\u001b[0m\u001b[0max0\u001b[0m\u001b[1;33m,\u001b[0m \u001b[0max1\u001b[0m\u001b[1;33m)\u001b[0m \u001b[1;33m=\u001b[0m \u001b[0mplt\u001b[0m\u001b[1;33m.\u001b[0m\u001b[0msubplots\u001b[0m\u001b[1;33m(\u001b[0m\u001b[1;36m2\u001b[0m\u001b[1;33m,\u001b[0m\u001b[1;36m1\u001b[0m\u001b[1;33m,\u001b[0m \u001b[0mfigsize\u001b[0m\u001b[1;33m=\u001b[0m\u001b[1;33m(\u001b[0m\u001b[1;36m12\u001b[0m\u001b[1;33m,\u001b[0m\u001b[1;36m8\u001b[0m\u001b[1;33m)\u001b[0m\u001b[1;33m)\u001b[0m\u001b[1;33m\u001b[0m\u001b[0m\n",
        "\u001b[1;32md:\\measuring\\analysis\\lib\\teleportation\\events.pyc\u001b[0m in \u001b[0;36mget_photon_hist\u001b[1;34m(fp, **kw)\u001b[0m\n\u001b[0;32m     94\u001b[0m \u001b[1;33m\u001b[0m\u001b[0m\n\u001b[0;32m     95\u001b[0m     \u001b[0mf\u001b[0m \u001b[1;33m=\u001b[0m \u001b[0mh5py\u001b[0m\u001b[1;33m.\u001b[0m\u001b[0mFile\u001b[0m\u001b[1;33m(\u001b[0m\u001b[0mfp\u001b[0m\u001b[1;33m,\u001b[0m \u001b[1;34m'r'\u001b[0m\u001b[1;33m)\u001b[0m\u001b[1;33m\u001b[0m\u001b[0m\n\u001b[1;32m---> 96\u001b[1;33m     \u001b[0msync_time_ns\u001b[0m \u001b[1;33m=\u001b[0m \u001b[0mf\u001b[0m\u001b[1;33m[\u001b[0m\u001b[1;34m'/HH_sync_time-1'\u001b[0m\u001b[1;33m]\u001b[0m\u001b[1;33m.\u001b[0m\u001b[0mvalue\u001b[0m \u001b[1;33m*\u001b[0m \u001b[1;36m1e-3\u001b[0m\u001b[1;33m\u001b[0m\u001b[0m\n\u001b[0m\u001b[0;32m     97\u001b[0m     \u001b[0mf\u001b[0m\u001b[1;33m.\u001b[0m\u001b[0mclose\u001b[0m\u001b[1;33m(\u001b[0m\u001b[1;33m)\u001b[0m\u001b[1;33m\u001b[0m\u001b[0m\n\u001b[0;32m     98\u001b[0m \u001b[1;33m\u001b[0m\u001b[0m\n",
        "\u001b[1;32mC:\\Canopy\\User\\lib\\site-packages\\h5py\\_hl\\group.pyc\u001b[0m in \u001b[0;36m__getitem__\u001b[1;34m(self, name)\u001b[0m\n\u001b[0;32m    151\u001b[0m                 \u001b[1;32mraise\u001b[0m \u001b[0mValueError\u001b[0m\u001b[1;33m(\u001b[0m\u001b[1;34m\"Invalid HDF5 object reference\"\u001b[0m\u001b[1;33m)\u001b[0m\u001b[1;33m\u001b[0m\u001b[0m\n\u001b[0;32m    152\u001b[0m         \u001b[1;32melse\u001b[0m\u001b[1;33m:\u001b[0m\u001b[1;33m\u001b[0m\u001b[0m\n\u001b[1;32m--> 153\u001b[1;33m             \u001b[0moid\u001b[0m \u001b[1;33m=\u001b[0m \u001b[0mh5o\u001b[0m\u001b[1;33m.\u001b[0m\u001b[0mopen\u001b[0m\u001b[1;33m(\u001b[0m\u001b[0mself\u001b[0m\u001b[1;33m.\u001b[0m\u001b[0mid\u001b[0m\u001b[1;33m,\u001b[0m \u001b[0mself\u001b[0m\u001b[1;33m.\u001b[0m\u001b[0m_e\u001b[0m\u001b[1;33m(\u001b[0m\u001b[0mname\u001b[0m\u001b[1;33m)\u001b[0m\u001b[1;33m,\u001b[0m \u001b[0mlapl\u001b[0m\u001b[1;33m=\u001b[0m\u001b[0mself\u001b[0m\u001b[1;33m.\u001b[0m\u001b[0m_lapl\u001b[0m\u001b[1;33m)\u001b[0m\u001b[1;33m\u001b[0m\u001b[0m\n\u001b[0m\u001b[0;32m    154\u001b[0m \u001b[1;33m\u001b[0m\u001b[0m\n\u001b[0;32m    155\u001b[0m         \u001b[0motype\u001b[0m \u001b[1;33m=\u001b[0m \u001b[0mh5i\u001b[0m\u001b[1;33m.\u001b[0m\u001b[0mget_type\u001b[0m\u001b[1;33m(\u001b[0m\u001b[0moid\u001b[0m\u001b[1;33m)\u001b[0m\u001b[1;33m\u001b[0m\u001b[0m\n",
        "\u001b[1;32mC:\\Canopy\\User\\lib\\site-packages\\h5py\\h5o.pyd\u001b[0m in \u001b[0;36mh5py.h5o.open (h5py\\h5o.c:2946)\u001b[1;34m()\u001b[0m\n",
        "\u001b[1;31mKeyError\u001b[0m: \"unable to open object (Symbol table: Can't open object)\""
       ]
      }
     ],
     "prompt_number": 27
    },
    {
     "cell_type": "code",
     "collapsed": false,
     "input": [
      "fp"
     ],
     "language": "python",
     "metadata": {},
     "outputs": [
      {
       "metadata": {},
       "output_type": "pyout",
       "prompt_number": 31,
       "text": [
        "'X:\\\\data\\\\20140609\\\\183156_Bell_BS_tpqi_parallel_BS_lt1_tail_dac3_m1500_Ey\\\\183156_Bell_BS_tpqi_parallel_BS_lt1_tail_dac3_m1500_Ey.hdf5'"
       ]
      }
     ],
     "prompt_number": 31
    },
    {
     "cell_type": "code",
     "collapsed": false,
     "input": [
      "from analysis.lib.pq import pq_tools"
     ],
     "language": "python",
     "metadata": {},
     "outputs": [],
     "prompt_number": 32
    },
    {
     "cell_type": "code",
     "collapsed": false,
     "input": [
      "ph_0, ph_1 = pq_tools.get_photons(f)"
     ],
     "language": "python",
     "metadata": {},
     "outputs": [],
     "prompt_number": 36
    },
    {
     "cell_type": "code",
     "collapsed": false,
     "input": [
      "coincedences = pq_tools.get_coincidences(f)"
     ],
     "language": "python",
     "metadata": {},
     "outputs": [],
     "prompt_number": 39
    },
    {
     "cell_type": "code",
     "collapsed": false,
     "input": [
      "def plot_coincidences(coinc, **kw):\n",
      "    dts = coinc[:,0] \n",
      "    \n",
      "    \n",
      "    fig, ax = subplots(1,1, figsize=(6,4))\n",
      "    _plot_coincidences(ax, dts)\n",
      "    \n",
      "    fig.suptitle(get_msmt_header(fp) + ' -- coincidences')\n",
      "    folder, _fn = os.path.split(fp)\n",
      "    fig.savefig(os.path.join(folder, 'coincidences.png'))"
     ],
     "language": "python",
     "metadata": {},
     "outputs": [],
     "prompt_number": 44
    },
    {
     "cell_type": "code",
     "collapsed": false,
     "input": [
      "plot_coincidences(coincedences)"
     ],
     "language": "python",
     "metadata": {},
     "outputs": [
      {
       "ename": "NameError",
       "evalue": "global name 'COLORS' is not defined",
       "output_type": "pyerr",
       "traceback": [
        "\u001b[1;31m---------------------------------------------------------------------------\u001b[0m\n\u001b[1;31mNameError\u001b[0m                                 Traceback (most recent call last)",
        "\u001b[1;32m<ipython-input-45-c63efa7e18ea>\u001b[0m in \u001b[0;36m<module>\u001b[1;34m()\u001b[0m\n\u001b[1;32m----> 1\u001b[1;33m \u001b[0mplot_coincidences\u001b[0m\u001b[1;33m(\u001b[0m\u001b[0mcoincedences\u001b[0m\u001b[1;33m)\u001b[0m\u001b[1;33m\u001b[0m\u001b[0m\n\u001b[0m",
        "\u001b[1;32m<ipython-input-44-38c4401197c6>\u001b[0m in \u001b[0;36mplot_coincidences\u001b[1;34m(coinc, **kw)\u001b[0m\n\u001b[0;32m      4\u001b[0m \u001b[1;33m\u001b[0m\u001b[0m\n\u001b[0;32m      5\u001b[0m     \u001b[0mfig\u001b[0m\u001b[1;33m,\u001b[0m \u001b[0max\u001b[0m \u001b[1;33m=\u001b[0m \u001b[0msubplots\u001b[0m\u001b[1;33m(\u001b[0m\u001b[1;36m1\u001b[0m\u001b[1;33m,\u001b[0m\u001b[1;36m1\u001b[0m\u001b[1;33m,\u001b[0m \u001b[0mfigsize\u001b[0m\u001b[1;33m=\u001b[0m\u001b[1;33m(\u001b[0m\u001b[1;36m6\u001b[0m\u001b[1;33m,\u001b[0m\u001b[1;36m4\u001b[0m\u001b[1;33m)\u001b[0m\u001b[1;33m)\u001b[0m\u001b[1;33m\u001b[0m\u001b[0m\n\u001b[1;32m----> 6\u001b[1;33m     \u001b[0m_plot_coincidences\u001b[0m\u001b[1;33m(\u001b[0m\u001b[0max\u001b[0m\u001b[1;33m,\u001b[0m \u001b[0mdts\u001b[0m\u001b[1;33m)\u001b[0m\u001b[1;33m\u001b[0m\u001b[0m\n\u001b[0m\u001b[0;32m      7\u001b[0m \u001b[1;33m\u001b[0m\u001b[0m\n\u001b[0;32m      8\u001b[0m     \u001b[0mfig\u001b[0m\u001b[1;33m.\u001b[0m\u001b[0msuptitle\u001b[0m\u001b[1;33m(\u001b[0m\u001b[0mget_msmt_header\u001b[0m\u001b[1;33m(\u001b[0m\u001b[0mfp\u001b[0m\u001b[1;33m)\u001b[0m \u001b[1;33m+\u001b[0m \u001b[1;34m' -- coincidences'\u001b[0m\u001b[1;33m)\u001b[0m\u001b[1;33m\u001b[0m\u001b[0m\n",
        "\u001b[1;32m<ipython-input-3-31c6f88db7d5>\u001b[0m in \u001b[0;36m_plot_coincidences\u001b[1;34m(ax, dts, **kw)\u001b[0m\n\u001b[0;32m     75\u001b[0m \u001b[1;31m### plotting\u001b[0m\u001b[1;33m\u001b[0m\u001b[1;33m\u001b[0m\u001b[0m\n\u001b[0;32m     76\u001b[0m \u001b[1;32mdef\u001b[0m \u001b[0m_plot_coincidences\u001b[0m\u001b[1;33m(\u001b[0m\u001b[0max\u001b[0m\u001b[1;33m,\u001b[0m \u001b[0mdts\u001b[0m\u001b[1;33m,\u001b[0m \u001b[1;33m**\u001b[0m\u001b[0mkw\u001b[0m\u001b[1;33m)\u001b[0m\u001b[1;33m:\u001b[0m\u001b[1;33m\u001b[0m\u001b[0m\n\u001b[1;32m---> 77\u001b[1;33m     \u001b[0mcolor\u001b[0m \u001b[1;33m=\u001b[0m \u001b[0mkw\u001b[0m\u001b[1;33m.\u001b[0m\u001b[0mpop\u001b[0m\u001b[1;33m(\u001b[0m\u001b[1;34m'color'\u001b[0m\u001b[1;33m,\u001b[0m \u001b[0mCOLORS\u001b[0m\u001b[1;33m[\u001b[0m\u001b[1;36m0\u001b[0m\u001b[1;33m]\u001b[0m\u001b[1;33m)\u001b[0m\u001b[1;33m\u001b[0m\u001b[0m\n\u001b[0m\u001b[0;32m     78\u001b[0m     \u001b[0mlw\u001b[0m \u001b[1;33m=\u001b[0m \u001b[0mkw\u001b[0m\u001b[1;33m.\u001b[0m\u001b[0mpop\u001b[0m\u001b[1;33m(\u001b[0m\u001b[1;34m'lw'\u001b[0m\u001b[1;33m,\u001b[0m \u001b[1;36m0\u001b[0m\u001b[1;33m)\u001b[0m\u001b[1;33m\u001b[0m\u001b[0m\n\u001b[0;32m     79\u001b[0m \u001b[1;33m\u001b[0m\u001b[0m\n",
        "\u001b[1;31mNameError\u001b[0m: global name 'COLORS' is not defined"
       ]
      },
      {
       "metadata": {},
       "output_type": "display_data",
       "png": "[encoded data removed]",
       "text": [
        "<matplotlib.figure.Figure at 0xaea0650>"
       ]
      }
     ],
     "prompt_number": 45
    },
    {
     "cell_type": "code",
     "collapsed": false,
     "input": [
      "hist(f['PQ_sync_time-1'],100)"
     ],
     "language": "python",
     "metadata": {},
     "outputs": [
      {
       "metadata": {},
       "output_type": "pyout",
       "prompt_number": 35,
       "text": [
        "(array([   322.,    308.,    256.,  68937.,  11085.,    214.,    129.,\n",
        "          114.,    128.,  67900.,  10933.,    245.,    140.,    132.,\n",
        "          137.,  67512.,  11145.,    201.,    136.,    119.,    110.,\n",
        "        66457.,  10952.,    205.,    158.,    119.,    111.,  66404.,\n",
        "        11035.,    201.,    146.,    137.,    112.,  65421.,  10751.,\n",
        "          198.,    148.,    122.,    114.,  65442.,  10780.,    212.,\n",
        "          128.,    121.,    112.,  64630.,  10780.,    231.,    151.,\n",
        "          137.,    111.,  64359.,  10528.,    215.,    154.,    116.,\n",
        "          121.,  64147.,  10484.,    199.,    141.,    126.,    103.,\n",
        "        63566.,  10547.,    213.,    138.,    146.,    101.,  62244.,\n",
        "        10408.,    200.,    144.,    139.,    120.,  62059.,  10189.,\n",
        "          197.,    147.,    120.,    116.,  61724.,  10247.,    211.,\n",
        "          169.,    126.,    125.,  61174.,  10090.,    210.,    148.,\n",
        "          129.,    114.,    108.,    111.,    122.,    102.,    105.,\n",
        "           97.,     85.]),\n",
        " array([  5000209.  ,   5100201.76,   5200194.52,   5300187.28,\n",
        "         5400180.04,   5500172.8 ,   5600165.56,   5700158.32,\n",
        "         5800151.08,   5900143.84,   6000136.6 ,   6100129.36,\n",
        "         6200122.12,   6300114.88,   6400107.64,   6500100.4 ,\n",
        "         6600093.16,   6700085.92,   6800078.68,   6900071.44,\n",
        "         7000064.2 ,   7100056.96,   7200049.72,   7300042.48,\n",
        "         7400035.24,   7500028.  ,   7600020.76,   7700013.52,\n",
        "         7800006.28,   7899999.04,   7999991.8 ,   8099984.56,\n",
        "         8199977.32,   8299970.08,   8399962.84,   8499955.6 ,\n",
        "         8599948.36,   8699941.12,   8799933.88,   8899926.64,\n",
        "         8999919.4 ,   9099912.16,   9199904.92,   9299897.68,\n",
        "         9399890.44,   9499883.2 ,   9599875.96,   9699868.72,\n",
        "         9799861.48,   9899854.24,   9999847.  ,  10099839.76,\n",
        "        10199832.52,  10299825.28,  10399818.04,  10499810.8 ,\n",
        "        10599803.56,  10699796.32,  10799789.08,  10899781.84,\n",
        "        10999774.6 ,  11099767.36,  11199760.12,  11299752.88,\n",
        "        11399745.64,  11499738.4 ,  11599731.16,  11699723.92,\n",
        "        11799716.68,  11899709.44,  11999702.2 ,  12099694.96,\n",
        "        12199687.72,  12299680.48,  12399673.24,  12499666.  ,\n",
        "        12599658.76,  12699651.52,  12799644.28,  12899637.04,\n",
        "        12999629.8 ,  13099622.56,  13199615.32,  13299608.08,\n",
        "        13399600.84,  13499593.6 ,  13599586.36,  13699579.12,\n",
        "        13799571.88,  13899564.64,  13999557.4 ,  14099550.16,\n",
        "        14199542.92,  14299535.68,  14399528.44,  14499521.2 ,\n",
        "        14599513.96,  14699506.72,  14799499.48,  14899492.24,  14999485.  ]),\n",
        " <a list of 100 Patch objects>)"
       ]
      },
      {
       "metadata": {},
       "output_type": "display_data",
       "png": "[encoded data removed]",
       "text": [
        "<matplotlib.figure.Figure at 0xa671490>"
       ]
      }
     ],
     "prompt_number": 35
    },
    {
     "cell_type": "code",
     "collapsed": false,
     "input": [],
     "language": "python",
     "metadata": {},
     "outputs": []
    },
    {
     "cell_type": "heading",
     "level": 2,
     "metadata": {},
     "source": [
      "Aggregated analysis"
     ]
    },
    {
     "cell_type": "heading",
     "level": 3,
     "metadata": {},
     "source": [
      "Coincidences"
     ]
    },
    {
     "cell_type": "code",
     "collapsed": false,
     "input": [
      "BASE = BASE_FOLDER_WPMAC\n",
      "HWP_IN_FOLDERS = [\n",
      "                  'TPQI-001/HWP_in', \n",
      "                  'TPQI-002/HWP_in',\n",
      "                  ]\n",
      "\n",
      "\n",
      "HWP_OUT_FOLDERS = [\n",
      "                   'TPQI-001/HWP_out', \n",
      "                   'TPQI-002/HWP_out',\n",
      "                   ]\n",
      "\n",
      "G2_BINEDGES = arange(-4*600-53, 4*600+62, 6)\n",
      "SUM_BINEDGES = arange(-4*600-300, 4*600+900, 600)\n",
      "SUM_CNTRS = arange(-4*600, 5*600, 600)\n",
      "\n",
      "CNTR_PEAK_RANGE = 300\n",
      "\n",
      "def _aggregated_coincidences(in_folders, out_folders):\n",
      "    in_coincidences = empty((0,4))\n",
      "    for _f in in_folders:\n",
      "        _f = os.path.join(BASE, _f)\n",
      "        in_coincidences = vstack((in_coincidences, get_coincidences_from_folder(_f)))\n",
      "    \n",
      "    out_coincidences = empty((0,4))\n",
      "    for _f in out_folders:\n",
      "        _f = os.path.join(BASE, _f)\n",
      "        out_coincidences = vstack((out_coincidences, get_coincidences_from_folder(_f)))\n",
      "        \n",
      "    return in_coincidences, out_coincidences\n",
      "\n",
      "def _in_center_peak(dts):\n",
      "    return (dts>-CNTR_PEAK_RANGE) & (dts<CNTR_PEAK_RANGE)\n",
      "\n",
      "def normalized_center_peak_height(dts, max_peak_dt=None):\n",
      "    peak_dts = dts.copy()[_in_center_peak(dts)]\n",
      "    if max_peak_dt != None:\n",
      "        fltr = (peak_dts>-max_peak_dt) & (peak_dts<max_peak_dt)\n",
      "        peak_dts = peak_dts[fltr]\n",
      "    \n",
      "    r = float(len(dts[logical_not(_in_center_peak(dts))]))\n",
      "    p = float(len(peak_dts))    \n",
      "    u_r = sqrt(r)\n",
      "    u_p = sqrt(p)\n",
      "    h = p/r\n",
      "    u_h = sqrt( (u_p/r)**2 + (p/r**2 * u_r)**2 )\n",
      "    return h, u_h\n",
      "\n",
      "def visibility(dts_in, dts_out, max_peak_dt=None):\n",
      "    i, u_i = normalized_center_peak_height(dts_in, max_peak_dt)\n",
      "    o, u_o = normalized_center_peak_height(dts_out, max_peak_dt)\n",
      "    \n",
      "    v = 1. - o/i\n",
      "    u_v = sqrt( (u_o/i)**2 + (o/i**2 * u_i)**2 )\n",
      "    \n",
      "    return v, u_v\n",
      "\n",
      "def get_aggregated_coincidences(in_folders=HWP_IN_FOLDERS, out_folders=HWP_OUT_FOLDERS):        \n",
      "    in_coincidences, out_coincidences = _aggregated_coincidences(in_folders, out_folders)\n",
      "    \n",
      "    length = 20\n",
      "    ch0_start = CH0_START+3\n",
      "    \n",
      "    fltr_in = filter_coincidences(in_coincidences, ch0_start=ch0_start,\n",
      "                                  length=length)\n",
      "    fltr_out = filter_coincidences(out_coincidences, ch0_start=ch0_start,\n",
      "                                   length=length)    \n",
      "    \n",
      "    in_dts = in_coincidences[fltr_in,0] - CHANNELDELAY\n",
      "    out_dts = out_coincidences[fltr_out,0] - CHANNELDELAY\n",
      "    \n",
      "    v,u_v = visibility(in_dts, out_dts)\n",
      "    print 'Visibility: ({:.1f} +/- {:.1f})%'.format(v*100., u_v*100.)\n",
      "       \n",
      "    fig, (ax_in, ax_out) = subplots(1,2, figsize=(25,5), sharey=True, sharex=True)\n",
      "    ax_in.set_title('HWP in')\n",
      "    ax_out.set_title('HWP out')\n",
      "    \n",
      "    _plot_coincidences(ax_in, in_dts)\n",
      "    _plot_coincidences(ax_out, out_dts, color=COLORS[1])\n",
      "\n",
      "    peakcounts_in, _be = histogram(in_dts, bins=SUM_BINEDGES)\n",
      "    peakcounts_out, _be = histogram(out_dts, bins=SUM_BINEDGES)\n",
      "\n",
      "    # print sums of the peaks \n",
      "    # for i,c in enumerate(peakcounts_in):\n",
      "    #     ax_in.text(SUM_CNTRS[i], ax_in.get_ylim()[1]-10, \"{}\".format(peakcounts_in[i]),\n",
      "    #                ha='center', va='top')\n",
      "        \n",
      "    # for i,c in enumerate(peakcounts_out):\n",
      "    #     ax_out.text(SUM_CNTRS[i], ax_out.get_ylim()[1]-10, \"{}\".format(peakcounts_out[i]),\n",
      "    #                ha='center', va='top')\n",
      "        \n",
      "    ax_in.set_xlim(-630,630)\n",
      "    \n",
      "    \n",
      "    return in_dts, out_dts\n",
      "\n",
      "in_dts, out_dts = get_aggregated_coincidences()"
     ],
     "language": "python",
     "metadata": {},
     "outputs": [
      {
       "output_type": "stream",
       "stream": "stdout",
       "text": [
        "Visibility: (73.1 +/- 5.6)%\n"
       ]
      },
      {
       "metadata": {},
       "output_type": "display_data",
       "png": "[encoded data removed]",
       "text": [
        "<matplotlib.figure.Figure at 0x105ee3910>"
       ]
      }
     ],
     "prompt_number": 324
    },
    {
     "cell_type": "code",
     "collapsed": false,
     "input": [
      "f = h5py.File('TPQI.h5py', 'w')\n",
      "f['coincidences_HWP_in'] = in_dts\n",
      "f['coincidences_HWP_in'].attrs['description'] = 'contains the filtered list of dt-values in ns'\n",
      "f['coincidences_HWP_out'] = out_dts\n",
      "f['coincidences_HWP_out'].attrs['description'] = 'contains the filtered list of dt-values in ns'\n",
      "f.close()"
     ],
     "language": "python",
     "metadata": {},
     "outputs": [],
     "prompt_number": 323
    },
    {
     "cell_type": "code",
     "collapsed": false,
     "input": [
      "in_folders = HWP_IN_FOLDERS\n",
      "out_folders = HWP_OUT_FOLDERS     \n",
      "in_coincidences, out_coincidences = _aggregated_coincidences(in_folders, out_folders)\n",
      "    \n",
      "fltr_in = filter_coincidences(in_coincidences)\n",
      "fltr_out = filter_coincidences(out_coincidences)    \n",
      "in_dts = in_coincidences[fltr_in,0] - CHANNELDELAY\n",
      "out_dts = out_coincidences[fltr_out,0] - CHANNELDELAY\n",
      "    \n",
      "v = array([])\n",
      "u_v = array([])\n",
      "dtmaxs = arange(2, 52, 2)\n",
      "for dtmax in dtmaxs:\n",
      "    _v, _u_v = visibility(in_dts, out_dts, max_peak_dt=dtmax)\n",
      "    v = append(v, _v)\n",
      "    u_v = append(u_v, _u_v)\n",
      "    \n",
      "fig, ax = subplots(1,1)\n",
      "ax.errorbar(dtmaxs, v, yerr=u_v, fmt='o')\n",
      "ax.set_xlabel('max. dt (ns)')\n",
      "ax.set_ylabel('visibility')\n",
      "ax.set_title('TPQI visibility vs max. coincidence delay')\n",
      "    \n",
      "info = \"\"\"\n",
      "ch0 start: {} ns\n",
      "ch1 start: {} ns\n",
      "length: {} ns\n",
      "\"\"\".format(CH0_START, CH0_START-CHANNELDELAY, CH0_STOP-CH0_START)\n",
      "    \n",
      "ax.text(40, 0.85, info, ha='left', va='top')\n"
     ],
     "language": "python",
     "metadata": {},
     "outputs": [
      {
       "metadata": {},
       "output_type": "pyout",
       "prompt_number": 302,
       "text": [
        "<matplotlib.text.Text at 0x110f50290>"
       ]
      },
      {
       "metadata": {},
       "output_type": "display_data",
       "png": "[encoded data removed]",
       "text": [
        "<matplotlib.figure.Figure at 0x110fe9cd0>"
       ]
      }
     ],
     "prompt_number": 302
    },
    {
     "cell_type": "code",
     "collapsed": false,
     "input": [
      "ch0_starts = np.arange(CH0_START, CH0_START+11, 1)\n",
      "length = 30\n",
      "dtmax = 5\n",
      "\n",
      "v = array([])\n",
      "u_v = array([])\n",
      "\n",
      "for ch0_start in ch0_starts:\n",
      "    fltr_in = filter_coincidences(in_coincidences, ch0_start=ch0_start,\n",
      "                                  length=length)\n",
      "    fltr_out = filter_coincidences(out_coincidences, ch0_start=ch0_start,\n",
      "                                   length=length)\n",
      "    in_dts = in_coincidences[fltr_in,0] - CHANNELDELAY\n",
      "    out_dts = out_coincidences[fltr_out,0] - CHANNELDELAY\n",
      "    _v, _u_v = visibility(in_dts, out_dts, max_peak_dt=dtmax)\n",
      "    v = append(v, _v)\n",
      "    u_v = append(u_v, _u_v)\n",
      "    \n",
      "fig, ax = subplots(1,1)\n",
      "ax.errorbar(ch0_starts - CH0_START, v, yerr=u_v, fmt='o')\n",
      "ax.set_xlabel('tail start offset (ns)')\n",
      "ax.set_ylabel('visibility')\n",
      "ax.set_title('TPQI visibility vs tail start offset')\n",
      "\n",
      "info = \"\"\"\n",
      "max dt: {} ns\n",
      "length: {} ns\n",
      "\"\"\".format(dtmax, length)\n",
      "\n",
      "print info"
     ],
     "language": "python",
     "metadata": {},
     "outputs": [
      {
       "output_type": "stream",
       "stream": "stdout",
       "text": [
        "\n",
        "max dt: 5 ns\n",
        "length: 30 ns\n",
        "\n"
       ]
      },
      {
       "metadata": {},
       "output_type": "display_data",
       "png": "[encoded data removed]",
       "text": [
        "<matplotlib.figure.Figure at 0x110f74a50>"
       ]
      }
     ],
     "prompt_number": 306
    },
    {
     "cell_type": "code",
     "collapsed": false,
     "input": [
      "ch0_start = CH0_START+3\n",
      "lengths = arange(10, 55, 5)\n",
      "dtmax = 5\n",
      "\n",
      "v = array([])\n",
      "u_v = array([])\n",
      "\n",
      "for length in lengths:\n",
      "    fltr_in = filter_coincidences(in_coincidences, ch0_start=ch0_start,\n",
      "                                  length=length)\n",
      "    fltr_out = filter_coincidences(out_coincidences, ch0_start=ch0_start,\n",
      "                                   length=length)\n",
      "    in_dts = in_coincidences[fltr_in,0] - CHANNELDELAY\n",
      "    out_dts = out_coincidences[fltr_out,0] - CHANNELDELAY\n",
      "    _v, _u_v = visibility(in_dts, out_dts, max_peak_dt=dtmax)\n",
      "    v = append(v, _v)\n",
      "    u_v = append(u_v, _u_v)\n",
      "    \n",
      "fig, ax = subplots(1,1)\n",
      "ax.errorbar(lengths, v, yerr=u_v, fmt='o')\n",
      "ax.set_xlabel('tail length (ns)')\n",
      "ax.set_ylabel('visibility')\n",
      "ax.set_title('TPQI visibility vs tail length')\n",
      "\n",
      "info = \"\"\"\n",
      "max dt: {} ns\n",
      "ch0 start: {} ns\n",
      "\"\"\".format(dtmax, ch0_start)\n",
      "\n",
      "print info"
     ],
     "language": "python",
     "metadata": {},
     "outputs": [
      {
       "output_type": "stream",
       "stream": "stdout",
       "text": [
        "\n",
        "max dt: 5 ns\n",
        "ch0 start: 95 ns\n",
        "\n"
       ]
      },
      {
       "metadata": {},
       "output_type": "display_data",
       "png": "[encoded data removed]",
       "text": [
        "<matplotlib.figure.Figure at 0x1061bf5d0>"
       ]
      }
     ],
     "prompt_number": 310
    },
    {
     "cell_type": "code",
     "collapsed": false,
     "input": [],
     "language": "python",
     "metadata": {},
     "outputs": []
    }
   ],
   "metadata": {}
  }
 ]
}