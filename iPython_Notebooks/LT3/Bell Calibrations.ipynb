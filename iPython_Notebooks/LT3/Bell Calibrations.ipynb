{
 "metadata": {
  "name": "Bell Calibrations"
 },
 "nbformat": 3,
 "nbformat_minor": 0,
 "worksheets": [
  {
   "cells": [
    {
     "cell_type": "code",
     "collapsed": false,
     "input": [
      "execfile(r'D:\\measuring\\analysis\\scripts\\setup_analysis.py')"
     ],
     "language": "python",
     "metadata": {},
     "outputs": []
    },
    {
     "cell_type": "heading",
     "level": 4,
     "metadata": {},
     "source": [
      "Stage 0: ESR"
     ]
    },
    {
     "cell_type": "code",
     "collapsed": false,
     "input": [
      "execfile(r'D:/measuring/analysis/scripts/espin/simple_esr_fit.py')"
     ],
     "language": "python",
     "metadata": {},
     "outputs": []
    },
    {
     "cell_type": "heading",
     "level": 4,
     "metadata": {},
     "source": [
      "Stage 1: SSRO"
     ]
    },
    {
     "cell_type": "code",
     "collapsed": false,
     "input": [
      "ssro.ssrocalib(plot_photon_ms0=False)"
     ],
     "language": "python",
     "metadata": {},
     "outputs": []
    },
    {
     "cell_type": "heading",
     "level": 4,
     "metadata": {},
     "source": [
      "Stage 2: Fast SSRO"
     ]
    },
    {
     "cell_type": "code",
     "collapsed": false,
     "input": [
      "folder= tb.latest_data('FastSSRO')\n",
      "#folder = r'D:\\measuring\\data\\20140507\\131506_PQPulsarMeasurement_FastSSROCalibration_test'\n",
      "#folder=tb.data_from_time('125319')\n",
      "a=pqsequence.FastSSROAnalysis(folder)#, pq_folder='bs_remote')\n",
      "a.get_sweep_pts()\n",
      "a.get_readout_results('ssro')\n",
      "a.get_sweep_idxs(noof_syncs_per_sweep_pt=1)\n",
      "a.get_fastssro_results(channel=0,pq_binsize_ns=1.0, hist_binsize_ns=100.0)\n",
      "a.plot_fidelity_cpsh_vs_sweep(RO_length_ns=3500)"
     ],
     "language": "python",
     "metadata": {},
     "outputs": []
    },
    {
     "cell_type": "heading",
     "level": 4,
     "metadata": {},
     "source": [
      "Stage 3.1: Dark ESR"
     ]
    },
    {
     "cell_type": "code",
     "collapsed": false,
     "input": [
      "execfile(r'D:\\measuring\\analysis\\scripts\\espin\\dark_esr_analysis.py')"
     ],
     "language": "python",
     "metadata": {},
     "outputs": []
    },
    {
     "cell_type": "heading",
     "level": 4,
     "metadata": {},
     "source": [
      "Stage 3.2: Pi pulse multiplicity 1"
     ]
    },
    {
     "cell_type": "code",
     "collapsed": false,
     "input": [
      "folder= tb.latest_data('GeneralPiCalibration')\n",
      "a=sequence.SequenceAnalysis(folder)\n",
      "a.get_readout_results(name='ssro')\n",
      "ax = a.plot_result_vs_sweepparam(ret='ax', name='ssro')\n",
      "ax.set_ylim(0.0,0.5)"
     ],
     "language": "python",
     "metadata": {},
     "outputs": []
    },
    {
     "cell_type": "heading",
     "level": 4,
     "metadata": {},
     "source": [
      "Stage 3.3: Pi pulse multiplicity 5"
     ]
    },
    {
     "cell_type": "code",
     "collapsed": false,
     "input": [
      "from analysis.scripts.bell import calibration_tools\n",
      "reload(calibration_tools)\n",
      "folder=tb.latest_data('GeneralPiCalibration')\n",
      "fit=calibration_tools.fit_parabolic(folder, x0_guess=0.5,a_guess=1.)\n",
      "fit_result=calibration_tools.plot_result(folder, ret=True)\n",
      "print 'Fitted maximum at ', fit['params'][2], 'us'\n",
      "print ' {:.3f} +/- {:.3f}'.format(1-fit['params'][0]+fit['params'][1], np.sqrt(fit['error'][0]**2+fit['error'][1]**2))"
     ],
     "language": "python",
     "metadata": {},
     "outputs": []
    },
    {
     "cell_type": "heading",
     "level": 4,
     "metadata": {},
     "source": [
      "Stage 3.4 Pi/2 calibration"
     ]
    },
    {
     "cell_type": "code",
     "collapsed": false,
     "input": [
      "execfile(r'D:\\measuring\\analysis\\scripts\\espin\\calibration_pi2_CORPSE.py')"
     ],
     "language": "python",
     "metadata": {},
     "outputs": []
    },
    {
     "cell_type": "heading",
     "level": 4,
     "metadata": {},
     "source": [
      "Stage 3.5 Pi/4 calibration"
     ]
    },
    {
     "cell_type": "code",
     "collapsed": false,
     "input": [
      "execfile(r'D:\\measuring\\analysis\\scripts\\espin\\calibration_pi2_CORPSE.py')"
     ],
     "language": "python",
     "metadata": {},
     "outputs": []
    },
    {
     "cell_type": "heading",
     "level": 4,
     "metadata": {},
     "source": [
      "Stage 4.1: Bell echo"
     ]
    },
    {
     "cell_type": "code",
     "collapsed": false,
     "input": [
      "folder= tb.latest_data('Bell')\n",
      "a=sequence.SequenceAnalysis(folder)\n",
      "a.get_readout_results(name='ssro')\n",
      "ax = a.plot_result_vs_sweepparam(ret='ax', name='ssro')\n",
      "ax.set_ylim(0.0,0.1)"
     ],
     "language": "python",
     "metadata": {},
     "outputs": []
    },
    {
     "cell_type": "heading",
     "level": 4,
     "metadata": {},
     "source": [
      "Stage 4.2: Random MW RO correlation"
     ]
    },
    {
     "cell_type": "raw",
     "metadata": {},
     "source": [
      "In Window Correlations notebook for now"
     ]
    },
    {
     "cell_type": "heading",
     "level": 4,
     "metadata": {},
     "source": [
      "Stage 4.3: SP COrrelations"
     ]
    },
    {
     "cell_type": "raw",
     "metadata": {},
     "source": [
      "In Window Correlations notebook for now"
     ]
    },
    {
     "cell_type": "code",
     "collapsed": false,
     "input": [],
     "language": "python",
     "metadata": {},
     "outputs": []
    }
   ],
   "metadata": {}
  }
 ]
}