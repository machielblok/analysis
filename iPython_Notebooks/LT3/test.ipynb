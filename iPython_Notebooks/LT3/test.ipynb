import numpy as np
import h5py as h5py

f = h5py.File("testfile.hdf5")

arr = np.ones((5,2))

print "test"

