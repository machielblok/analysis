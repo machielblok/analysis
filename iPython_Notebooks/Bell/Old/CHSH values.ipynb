{
 "metadata": {
  "name": "",
  "signature": "sha256:2dbd1b803c466aaf11583df1dfac2ab31c858cfd7d368432e067c750ba7bd80c"
 },
 "nbformat": 3,
 "nbformat_minor": 0,
 "worksheets": [
  {
   "cells": [
    {
     "cell_type": "code",
     "collapsed": false,
     "input": [
      "ad_reps = a.adwingrp('ssro')['entanglement_events'].value\n",
      "\n",
      "is_PLU_mrkr = pq_tools.get_markers(a.pqf, 1)\n",
      "noof_PLU_markers = len(where(is_PLU_mrkr)[0])\n",
      "if ad_reps != noof_PLU_markers:\n",
      "    print 'Adwin events ({}) do not match PQ events ({}) - data set seems faulty :('.format(ad_reps,noof_PLU_markers)\n",
      "else:\n",
      "    print 'OK :)'\n",
      "\n",
      "start_0 = 5379.5\n",
      "start_1 = start_0+3.14\n",
      "length = 20\n",
      "w_sep=600\n",
      "\n",
      "is_ph0, is_ph1 = pq_tools.get_photons(a.pqf)"
     ],
     "language": "python",
     "metadata": {},
     "outputs": []
    }
   ],
   "metadata": {}
  }
 ]
}