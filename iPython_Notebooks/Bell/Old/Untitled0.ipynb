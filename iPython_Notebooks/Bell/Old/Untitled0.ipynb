{
 "metadata": {
  "name": "",
  "signature": "sha256:abf42bcd77edbc609a6d66f941dfa51220d8b8e4c4d43d6856db067cffb59f0d"
 },
 "nbformat": 3,
 "nbformat_minor": 0,
 "worksheets": [
  {
   "cells": [
    {
     "cell_type": "code",
     "collapsed": false,
     "input": [
      "test = 1\n",
      "test2 = 2\n",
      "\n",
      "test3 = test + test2\n",
      "print test3"
     ],
     "language": "python",
     "metadata": {},
     "outputs": [
      {
       "output_type": "stream",
       "stream": "stdout",
       "text": [
        "3\n"
       ]
      }
     ],
     "prompt_number": 1
    },
    {
     "cell_type": "code",
     "collapsed": false,
     "input": [],
     "language": "python",
     "metadata": {},
     "outputs": []
    }
   ],
   "metadata": {}
  }
 ]
}