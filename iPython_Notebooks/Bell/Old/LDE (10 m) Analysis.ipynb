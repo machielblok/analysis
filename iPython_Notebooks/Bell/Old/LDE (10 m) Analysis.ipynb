{
 "metadata": {
  "name": "",
  "signature": "sha256:aee4ba608f2d7ed6e99ec7e26203ec917f417851d87d97ea4386f6b068994b32"
 },
 "nbformat": 3,
 "nbformat_minor": 0,
 "worksheets": [
  {
   "cells": [
    {
     "cell_type": "heading",
     "level": 1,
     "metadata": {},
     "source": [
      "BASIC SETTINGS AND INITIALIZATION"
     ]
    },
    {
     "cell_type": "code",
     "collapsed": false,
     "input": [
      "import sys\n",
      "# Add data path\n",
      "if not r'K:\\ns\\qt\\Diamond\\Projects\\Bell\\Data\\2014-07-17-LDE-over-10m-XX' in sys.path:\n",
      "    sys.path.append(r'K:\\ns\\qt\\Diamond\\Projects\\Bell\\Data\\2014-07-17-LDE-over-10m-XX')\n",
      "    \n",
      "# Add analysis path\n",
      "if not r'K:\\ns\\qt\\Diamond\\Projects\\Bell\\Data\\2014-07-17-LDE-over-10m-XX\\analysis' in sys.path:\n",
      "    sys.path.append(r'K:\\ns\\qt\\Diamond\\Projects\\Bell\\Data\\2014-07-17-LDE-over-10m-XX\\analysis')"
     ],
     "language": "python",
     "metadata": {},
     "outputs": [],
     "prompt_number": 1
    },
    {
     "cell_type": "code",
     "collapsed": false,
     "input": [
      "#Import general packages\n",
      "import h5py\n",
      "import os\n",
      "import string\n",
      "import time\n",
      "import pprint\n",
      "import numpy as np\n",
      "import matplotlib.pyplot as plt\n",
      "\n",
      "#Import analysis packages\n",
      "from analysis.lib.fitting import fit\n",
      "from analysis.lib import tools\n",
      "from analysis.lib.tools import toolbox as tb\n",
      "from analysis.lib.m2.ssro import ssro\n",
      "from analysis.lib.math import readout_correction as roc\n",
      "\n",
      "# Import Bell specific packages\n",
      "from analysis.lib.bell import files, Filter, Settings, Events\n",
      "reload(files)\n",
      "reload(Settings)\n",
      "reload(Filter)\n",
      "reload(Events)\n"
     ],
     "language": "python",
     "metadata": {},
     "outputs": [
      {
       "metadata": {},
       "output_type": "pyout",
       "prompt_number": 2,
       "text": [
        "<module 'analysis.lib.bell.Events' from 'K:\\ns\\qt\\Diamond\\Projects\\Bell\\Data\\2014-07-17-LDE-over-10m-XX\\analysis\\lib\\bell\\Events.pyc'>"
       ]
      }
     ],
     "prompt_number": 2
    },
    {
     "cell_type": "code",
     "collapsed": false,
     "input": [
      "# Set settings\n",
      "Settings.VERBOSE = True\n",
      "\n",
      "Settings.first_win_min = 5300000\n",
      "Settings.first_win_max = 5900000\n",
      "Settings.second_win_min = 5900000\n",
      "Settings.second_win_max = 6400000\n"
     ],
     "language": "python",
     "metadata": {},
     "outputs": [],
     "prompt_number": 3
    },
    {
     "cell_type": "code",
     "collapsed": false,
     "input": [
      "# Set folders\n",
      "Base_Folder = r'K:\\ns\\qt\\Diamond\\Projects\\Bell\\Data\\2014-07-17-LDE-over-10m-XX' \n",
      "BS_Folder = Base_Folder + '\\BS'\n",
      "LT1_Folder = Base_Folder + '\\LT1'\n",
      "LT3_Folder = Base_Folder + '\\LT3'\n",
      "\n"
     ],
     "language": "python",
     "metadata": {},
     "outputs": [],
     "prompt_number": 4
    },
    {
     "cell_type": "heading",
     "level": 1,
     "metadata": {},
     "source": [
      "TOOLS"
     ]
    },
    {
     "cell_type": "heading",
     "level": 2,
     "metadata": {},
     "source": [
      "Get Filepaths"
     ]
    },
    {
     "cell_type": "code",
     "collapsed": false,
     "input": [
      "fp_BS = files.get_all_msmt_filepaths(BS_Folder, pattern='')\n",
      "fp_LT1 = files.get_all_msmt_filepaths(LT1_Folder,pattern = 'Bell_LT1_LT1_LDE')\n",
      "fp_LT3 = files.get_all_msmt_filepaths(LT3_Folder, pattern = 'Bell_LT3_LDE')\n",
      "\n",
      "print \n",
      "print \"ATTENTION\"\n",
      "print \"For fp_BS and fp_LT1 the first element [0] gives the first run and the second element [1] gives the second run. For fp_LT3 \\\n",
      "it is the other way around [0] gives the second run and [1] gives the first run.\"\n"
     ],
     "language": "python",
     "metadata": {},
     "outputs": [
      {
       "output_type": "stream",
       "stream": "stdout",
       "text": [
        "\n",
        "ATTENTION\n",
        "For fp_BS and fp_LT1 the first element [0] gives the first run and the second element [1] gives the second run. For fp_LT3 it is the other way around [0] gives the second run and [1] gives the first run.\n"
       ]
      }
     ],
     "prompt_number": 5
    },
    {
     "cell_type": "heading",
     "level": 2,
     "metadata": {},
     "source": [
      "Retrieve a list with the sync numbers corresponding to events with PLU markers"
     ]
    },
    {
     "cell_type": "code",
     "collapsed": false,
     "input": [
      "Unique_sync_num_with_markers_1st_run, Total_sync_num_with_markers_1st_run = Filter.sync_num_with_markers(fp_BS[0],1)\n",
      "print 'The number of events with PLU markesr in the first run is:', len(Unique_sync_num_with_markers_1st_run)\n",
      "\n",
      "Unique_sync_num_with_markers_2nd_run, Total_sync_num_with_markers_2nd_run = Filter.sync_num_with_markers(fp_BS[1],1)\n",
      "print 'The number of events with PLU markesr in the first run is:', len(Unique_sync_num_with_markers_2nd_run)\n"
     ],
     "language": "python",
     "metadata": {},
     "outputs": [
      {
       "output_type": "stream",
       "stream": "stdout",
       "text": [
        "The number of events with PLU markesr in the first run is: 444\n",
        "The number of events with PLU markesr in the first run is:"
       ]
      },
      {
       "output_type": "stream",
       "stream": "stdout",
       "text": [
        " 1928\n"
       ]
      }
     ],
     "prompt_number": 6
    },
    {
     "cell_type": "heading",
     "level": 2,
     "metadata": {},
     "source": [
      "Get a table with the information of all entanglement events"
     ]
    },
    {
     "cell_type": "code",
     "collapsed": false,
     "input": [
      "    \"\"\"\n",
      "    Returns all entanglement events. \n",
      "    Colums are:\n",
      "    Sync Nymber | Sync Time Photon 1 | Sync Time photon 2 | Photon 1 Channel | Photon 2 Channel | Attempts\n",
      "    | Amout of Photons LT1 | Amount of Photons LT 3 | CR Check Before LT1 | CR Check After LT1 | CR Check Before LT3 \n",
      "    | CR Check After LT3 | psiminus | absolute time\n",
      "    \"\"\"\n",
      "        \n",
      "    print \"Retrieving entanglement events first run....\"\n",
      "    entanglement_events_1st_run = Events.get_entanglement_events(fp_BS[0],fp_LT1[0],fp_LT3[1],1,Unique_sync_num_with_markers_1st_run)\n",
      "    print \"Entanglement events first run retrieved\"\n",
      "    print \n",
      "    \n",
      "    print \"Retrieving entanglement events second run....\"\n",
      "    entanglement_events_2nd_run = Events.get_entanglement_events(fp_BS[1],fp_LT1[1],fp_LT3[0],1,Unique_sync_num_with_markers_2nd_run)\n",
      "    print \"Entanglement events second run retrieved\"\n",
      "    print\n",
      "    \n",
      "    print \"Merging entanglement events\"\n",
      "    Total_entanglement_events = np.vstack((entanglement_events_1st_run, entanglement_events_2nd_run))\n",
      "    print \"entanglement events merged\"\n",
      "    \n",
      "        \n",
      "    print\n",
      "    print 'Found {} valid entanglement events.'.format(int(len(Total_entanglement_events)))\n",
      "    print '===================================='\n",
      "    print\n",
      "    \n",
      "    \n"
     ],
     "language": "python",
     "metadata": {},
     "outputs": [
      {
       "output_type": "stream",
       "stream": "stdout",
       "text": [
        "Retrieving entanglement events first run....\n",
        "\n"
       ]
      },
      {
       "output_type": "stream",
       "stream": "stdout",
       "text": [
        "Adwin LT1\n",
        "---------\n",
        "Number of events: 444 OK :)\n",
        "\n",
        "Adwin LT3\n",
        "---------\n",
        "Number of events: 444 OK :)\n",
        "\n"
       ]
      },
      {
       "output_type": "stream",
       "stream": "stdout",
       "text": [
        "Found 441 valid entanglement events.\n",
        "====================================\n",
        "\n",
        "Entanglement events first run retrieved\n",
        "\n",
        "Retrieving entanglement events second run....\n",
        "\n"
       ]
      },
      {
       "output_type": "stream",
       "stream": "stdout",
       "text": [
        "Adwin LT1\n",
        "---------\n",
        "Number of events: 1928 OK :)\n",
        "\n",
        "Adwin LT3\n",
        "---------\n",
        "Number of events: 1928 OK :)\n",
        "\n"
       ]
      },
      {
       "output_type": "stream",
       "stream": "stdout",
       "text": [
        "Found 1913 valid entanglement events.\n",
        "====================================\n",
        "\n",
        "Entanglement events second run retrieved\n",
        "\n",
        "Merging entanglement events\n",
        "entanglement events merged\n",
        "\n",
        "Found 2354 valid entanglement events.\n",
        "====================================\n",
        "\n"
       ]
      }
     ],
     "prompt_number": 7
    },
    {
     "cell_type": "heading",
     "level": 1,
     "metadata": {},
     "source": [
      "DATA ANALYSIS"
     ]
    },
    {
     "cell_type": "heading",
     "level": 2,
     "metadata": {},
     "source": [
      "Get number of up,up; up,down; down,up and down,down events for psiplus and psiminus"
     ]
    },
    {
     "cell_type": "code",
     "collapsed": false,
     "input": [
      "# Check if the first broad windows are set correctly, meaning that there are no events with with multiple \n",
      "# photons in either the first or the second window\n",
      "if sum(Total_entanglement_events[:,12] == 2) == 0  & sum(Total_entanglement_events[:,12] == 3) == 0:\n",
      "    print \"Broad windows are set correctly\"\n",
      "else:\n",
      "    print \"Check broad window setting\"\n",
      "\n",
      "# Makes boolean filters which determine if an event is psiminus or psiplus (see Filter.for_loop_sync_num for definition of both)\n",
      "is_psiminus = Total_entanglement_events[:,12] == 1\n",
      "is_psiplus = Total_entanglement_events[:,12] == 0\n",
      "    \n",
      "print 'Number of psiminus events:', sum(is_psiminus)\n",
      "print 'Number of psiplus event:', sum(is_psiplus)\n",
      "\n",
      "# Makes boolean filters which determine if the SSRO correspond with the up (photons are emitted) or down (no photons are emitted) state\n",
      "is_up_LT1 = Total_entanglement_events[:,6] > 0\n",
      "is_down_LT1 = Total_entanglement_events[:,6] == 0\n",
      "is_up_LT3 = Total_entanglement_events[:,7] > 0\n",
      "is_down_LT3 = Total_entanglement_events[:,7] == 0\n",
      "\n",
      "# Makes boolean filters for up, up; up, down; down, up; down, down events\n",
      "is_upLT1_upLT3 = is_up_LT1 & is_up_LT3\n",
      "is_upLT1_downLT3 = is_up_LT1 & is_down_LT3\n",
      "is_downLT1_upLT3 = is_down_LT1 & is_up_LT3\n",
      "is_downLT1_downLT3 = is_down_LT1 & is_down_LT3\n",
      "\n",
      "# Makes boolean filters for psiplus state\n",
      "is_psiplus_up_up = is_upLT1_upLT3 & is_psiplus\n",
      "is_psiplus_up_down = is_upLT1_downLT3 & is_psiplus\n",
      "is_psiplus_down_up = is_downLT1_upLT3 & is_psiplus\n",
      "is_psiplus_down_down = is_downLT1_downLT3 & is_psiplus\n",
      "\n",
      "# Makes boolean filters for psiminus state\n",
      "is_psiminus_up_up = is_upLT1_upLT3 & is_psiminus\n",
      "is_psiminus_up_down = is_upLT1_downLT3 & is_psiminus\n",
      "is_psiminus_down_up = is_downLT1_upLT3 & is_psiminus\n",
      "is_psiminus_down_down = is_downLT1_downLT3 & is_psiminus\n",
      "\n",
      "# Determines the amount of up, up; up, down; down, up and down, down events for the psiplus state\n",
      "psiplus_up_up = sum(is_psiplus_up_up)\n",
      "psiplus_up_down = sum(is_psiplus_up_down)\n",
      "psiplus_down_up = sum(is_psiplus_down_up)\n",
      "psiplus_down_down = sum(is_psiplus_down_down)\n",
      "\n",
      "psiplus_bars = np.array([psiplus_up_up, psiplus_up_down, psiplus_down_up, psiplus_down_down])\n",
      "psiplus_bars_norm = psiplus_bars/float(sum(psiplus_bars))\n",
      "\n",
      "\n",
      "# Determines the amount of up, up; up, down; down, up and down, down events for the psiminus state\n",
      "psiminus_up_up = sum(is_psiminus_up_up)\n",
      "psiminus_up_down = sum(is_psiminus_up_down)\n",
      "psiminus_down_up = sum(is_psiminus_down_up)\n",
      "psiminus_down_down = sum(is_psiminus_down_down)\n",
      "\n",
      "psiminus_bars = np.array([psiminus_up_up, psiminus_up_down, psiminus_down_up, psiminus_down_down])\n",
      "psiminus_bars_norm = psiminus_bars/float(sum(psiminus_bars))"
     ],
     "language": "python",
     "metadata": {},
     "outputs": [
      {
       "output_type": "stream",
       "stream": "stdout",
       "text": [
        "Broad windows are set correctly\n",
        "Number of psiminus events: 969\n",
        "Number of psiplus event: 1385\n"
       ]
      }
     ],
     "prompt_number": 8
    },
    {
     "cell_type": "heading",
     "level": 2,
     "metadata": {},
     "source": [
      "Plot the normalized number of up,up; up,down; down,up and down,down events for psiplus and psiminus"
     ]
    },
    {
     "cell_type": "code",
     "collapsed": false,
     "input": [
      "fig = plt.figure(1)\n",
      "ax = fig.add_subplot(111)\n",
      "width = 0.35\n",
      "N = 4\n",
      "ind = np.arange(N)\n",
      "bar1 = ax.bar(ind,psiplus_bars_norm,width,color='black')\n",
      "\n",
      "ax.set_xlim(-width,len(ind)+width)\n",
      "ax.set_ylim(0,0.5)\n",
      "ax.set_ylabel('Normalized number of events')\n",
      "ax.set_title('Psiplus')\n",
      "xTickMarks = [('Up Up # of events = '+str(psiplus_bars[0])), ('Up Down # of events = '+str(psiplus_bars[1])), \\\n",
      "              ('Down Up # of events = '+str(psiplus_bars[2])),('Down Down # of events = '+str(psiplus_bars[3]))]\n",
      "ax.set_xticks(ind+width)\n",
      "xtickNames = ax.set_xticklabels(xTickMarks)\n",
      "plt.setp(xtickNames, rotation=45, fontsize=10)\n",
      "\n",
      "fig = plt.figure(2)\n",
      "ax = fig.add_subplot(111)\n",
      "width = 0.35\n",
      "N = 4\n",
      "ind = np.arange(N)\n",
      "bar1 = ax.bar(ind,psiminus_bars_norm,width,color='black')\n",
      "\n",
      "ax.set_xlim(-width,len(ind)+width)\n",
      "ax.set_ylim(0,0.5)\n",
      "ax.set_ylabel('Normalized number of events')\n",
      "ax.set_title('Psiminus')\n",
      "xTickMarks = [('Up Up # of events = '+str(psiminus_bars[0])), ('Up Down # of events = '+str(psiminus_bars[1])), \\\n",
      "              ('Down Up # of events = '+str(psiminus_bars[2])),('Down Down # of events = '+str(psiminus_bars[3]))]\n",
      "ax.set_xticks(ind+width)\n",
      "xtickNames = ax.set_xticklabels(xTickMarks)\n",
      "plt.setp(xtickNames, rotation=45, fontsize=10)\n"
     ],
     "language": "python",
     "metadata": {},
     "outputs": [
      {
       "metadata": {},
       "output_type": "pyout",
       "prompt_number": 9,
       "text": [
        "[None, None, None, None, None, None, None, None]"
       ]
      },
      {
       "metadata": {},
       "output_type": "display_data",
       "png": "[encoded data removed]",
       "text": [
        "<matplotlib.figure.Figure at 0x8931c30>"
       ]
      },
      {
       "metadata": {},
       "output_type": "display_data",
       "png": "[encoded data removed]",
       "text": [
        "<matplotlib.figure.Figure at 0x8951630>"
       ]
      }
     ],
     "prompt_number": 9
    },
    {
     "cell_type": "heading",
     "level": 2,
     "metadata": {},
     "source": [
      "Plot photon histograms"
     ]
    },
    {
     "cell_type": "code",
     "collapsed": false,
     "input": [
      "sys.path.append(r'K:\\ns\\qt\\Diamond\\Projects\\Bell\\Data\\2014-07-17-LDE-over-10m-XX')\n",
      "execfile(r'H:\\My Documents\\MEP\\Analysis Scripts\\analysis\\scripts\\setup_analysis.py')\n",
      "folder=r'K:\\ns\\qt\\Diamond\\Projects\\Bell\\Data\\2014-07-17-LDE-over-10m-XX\\LT1\\202138_Bell_LT1_LT1_LDE_10m_XX_3pi_2nd_run'\n",
      "name = 'ssro'\n",
      "a = pqsequence.TailAnalysis(folder, hdf5_mode='r', pq_folder=r'K:\\ns\\qt\\Diamond\\Projects\\Bell\\Data\\2014-07-17-LDE-over-10m-XX\\BS\\202140_Bell_BS_BS_LDE_10m_XX_3pi_2nd_run')\n",
      "mrkr_filter = pq_tools.filter_marker(a.pqf,1)\n",
      "pq_plots.plot_photon_hist_filter_comparison(a.pqf,mrkr_filter,start = 5.370e6, length = 10000, hist_binsize = 100, save = False)"
     ],
     "language": "python",
     "metadata": {},
     "outputs": [
      {
       "metadata": {},
       "output_type": "pyout",
       "prompt_number": 10,
       "text": [
        "(<matplotlib.figure.Figure at 0x9305550>,\n",
        " (<matplotlib.axes.AxesSubplot at 0x92e5f50>,\n",
        "  <matplotlib.axes.AxesSubplot at 0x9331430>))"
       ]
      },
      {
       "metadata": {},
       "output_type": "display_data",
       "png": "[encoded data removed]",
       "text": [
        "<matplotlib.figure.Figure at 0x9305550>"
       ]
      }
     ],
     "prompt_number": 10
    },
    {
     "cell_type": "heading",
     "level": 2,
     "metadata": {},
     "source": [
      "Filter Data"
     ]
    },
    {
     "cell_type": "heading",
     "level": 3,
     "metadata": {},
     "source": [
      "Set windows for data filtering"
     ]
    },
    {
     "cell_type": "code",
     "collapsed": false,
     "input": [
      "## Set Filter Data in nanoseconds\n",
      "Filt_1st_win_start = 5378.\n",
      "Tail_length_1st_win = 100.\n",
      "Filt_1st_win_stop = Filt_1st_win_start + Tail_length_1st_win\n",
      "\n",
      "Filt_2nd_win_start = Filt_1st_win_start + 600.\n",
      "Tail_length_2nd_win = 100.\n",
      "Filt_2nd_win_stop = Filt_2nd_win_start + Tail_length_2nd_win\n",
      "\n"
     ],
     "language": "python",
     "metadata": {},
     "outputs": [],
     "prompt_number": 11
    },
    {
     "cell_type": "heading",
     "level": 3,
     "metadata": {},
     "source": [
      "Actual filter"
     ]
    },
    {
     "cell_type": "code",
     "collapsed": false,
     "input": [
      "# Initialize values for bar plot\n",
      "psiminus_filt_up_up = 0\n",
      "psiminus_filt_up_down = 0\n",
      "psiminus_filt_down_up = 0\n",
      "psiminus_filt_down_down = 0\n",
      "\n",
      "psiplus_filt_up_up = 0\n",
      "psiplus_filt_up_down = 0\n",
      "psiplus_filt_down_up = 0\n",
      "psiplus_filt_down_down = 0\n",
      "\n",
      "# The final filter.\n",
      "for i in np.arange(len(Total_entanglement_events)):\n",
      "    if Total_entanglement_events[i,12] == 1: # Then it is a psi minus event.\n",
      "        # Now it is checked if the sync times of the first and second photon lie within the window set above\n",
      "        if ((Total_entanglement_events[i,1] >= Filt_1st_win_start) and (Total_entanglement_events[i,1] <= Filt_1st_win_stop)) and ((Total_entanglement_events[i,2] >= Filt_2nd_win_start) and (Total_entanglement_events[i,2] <= Filt_2nd_win_stop)):\n",
      "            # Now we check what kind of event we have\n",
      "            if is_up_LT1[i] & is_up_LT3[i]:\n",
      "                psiminus_filt_up_up = psiminus_filt_up_up + 1\n",
      "            elif is_up_LT1[i] & is_down_LT3[i]:\n",
      "                psiminus_filt_up_down = psiminus_filt_up_down + 1\n",
      "            elif is_down_LT1[i] & is_up_LT3[i]:\n",
      "                psiminus_filt_down_up = psiminus_filt_down_up + 1\n",
      "            elif is_down_LT1[i] & is_down_LT3[i]:\n",
      "                psiminus_filt_down_down = psiminus_filt_down_down + 1\n",
      "    else: # These are the psi plus events. The filter is exactly the same\n",
      "        if ((Total_entanglement_events[i,1] >= Filt_1st_win_start) and (Total_entanglement_events[i,1] <= Filt_1st_win_stop)) and ((Total_entanglement_events[i,2] >= Filt_2nd_win_start) and (Total_entanglement_events[i,2] <= Filt_2nd_win_stop)):\n",
      "            if is_up_LT1[i] & is_up_LT3[i]:\n",
      "                psiplus_filt_up_up = psiminus_filt_up_up + 1\n",
      "            elif is_up_LT1[i] & is_down_LT3[i]:\n",
      "                psiplus_filt_up_down = psiminus_filt_up_down + 1\n",
      "            elif is_down_LT1[i] & is_up_LT3[i]:\n",
      "                psiplus_filt_down_up = psiminus_filt_down_up + 1\n",
      "            elif is_down_LT1[i] & is_down_LT3[i]:\n",
      "                psiplus_filt_down_down = psiminus_filt_down_down + 1\n",
      "                \n",
      "psiplus_filt_bars = np.array([psiplus_filt_up_up, psiplus_filt_up_down, psiplus_filt_down_up, psiplus_filt_down_down])\n",
      "print 'There are {} psiplus entanglement events after filtering.'.format(sum(psiplus_filt_bars))\n",
      "psiplus_filt_bars_norm = psiplus_filt_bars/float(sum(psiplus_filt_bars))\n",
      "\n",
      "psiminus_filt_bars = np.array([psiminus_filt_up_up, psiminus_filt_up_down, psiminus_filt_down_up, psiminus_filt_down_down])\n",
      "print 'There are {} psiminus entanglement events after filtering.'.format(sum(psiminus_filt_bars))\n",
      "psiminus_filt_bars_norm = psiminus_filt_bars/float(sum(psiminus_filt_bars))\n"
     ],
     "language": "python",
     "metadata": {},
     "outputs": [
      {
       "output_type": "stream",
       "stream": "stdout",
       "text": [
        "There are 8 psiplus entanglement events after filtering.\n",
        "There are 5 psiminus entanglement events after filtering.\n"
       ]
      }
     ],
     "prompt_number": 12
    },
    {
     "cell_type": "heading",
     "level": 3,
     "metadata": {},
     "source": [
      "Plot filtered data"
     ]
    },
    {
     "cell_type": "code",
     "collapsed": false,
     "input": [
      "fig = plt.figure(3)\n",
      "ax = fig.add_subplot(111)\n",
      "width = 0.35\n",
      "N = 4\n",
      "ind = np.arange(N)\n",
      "bar1 = ax.bar(ind,psiplus_filt_bars_norm,width,color='black')\n",
      "\n",
      "ax.set_xlim(-width,len(ind)+width)\n",
      "ax.set_ylim(0,0.5)\n",
      "ax.set_ylabel('Normalized number of events')\n",
      "ax.set_title('Psiplus filtered on sync times')\n",
      "xTickMarks = [('Up Up # of events = '+str(psiplus_filt_bars[0])), ('Up Down # of events = '+str(psiplus_filt_bars[1])), \\\n",
      "              ('Down Up # of events = '+str(psiplus_filt_bars[2])),('Down Down # of events = '+str(psiplus_filt_bars[3]))]\n",
      "ax.set_xticks(ind+width)\n",
      "xtickNames = ax.set_xticklabels(xTickMarks)\n",
      "plt.setp(xtickNames, rotation=45, fontsize=10)\n",
      "\n",
      "fig = plt.figure(4)\n",
      "ax = fig.add_subplot(111)\n",
      "width = 0.35\n",
      "N = 4\n",
      "ind = np.arange(N)\n",
      "bar1 = ax.bar(ind,psiminus_filt_bars_norm,width,color='black')\n",
      "\n",
      "ax.set_xlim(-width,len(ind)+width)\n",
      "ax.set_ylim(0,0.75)\n",
      "ax.set_ylabel('Normalized number of events')\n",
      "ax.set_title('Psiminus filtered on sync times')\n",
      "xTickMarks = [('Up Up # of events = '+str(psiminus_filt_bars[0])), ('Up Down # of events = '+str(psiminus_filt_bars[1])), \\\n",
      "              ('Down Up # of events = '+str(psiminus_filt_bars[2])),('Down Down # of events = '+str(psiminus_filt_bars[3]))]\n",
      "ax.set_xticks(ind+width)\n",
      "xtickNames = ax.set_xticklabels(xTickMarks)\n",
      "plt.setp(xtickNames, rotation=45, fontsize=10)\n"
     ],
     "language": "python",
     "metadata": {},
     "outputs": [
      {
       "metadata": {},
       "output_type": "pyout",
       "prompt_number": 13,
       "text": [
        "[None, None, None, None, None, None, None, None]"
       ]
      },
      {
       "metadata": {},
       "output_type": "display_data",
       "png": "[encoded data removed]",
       "text": [
        "<matplotlib.figure.Figure at 0x96b20f0>"
       ]
      },
      {
       "metadata": {},
       "output_type": "display_data",
       "png": "[encoded data removed]",
       "text": [
        "<matplotlib.figure.Figure at 0x934c470>"
       ]
      }
     ],
     "prompt_number": 13
    },
    {
     "cell_type": "heading",
     "level": 3,
     "metadata": {},
     "source": [
      "Creates a histogram of the synctimes of all entangled photons"
     ]
    },
    {
     "cell_type": "code",
     "collapsed": false,
     "input": [
      "hist(np.append(Total_entanglement_events[:,1],Total_entanglement_events[:,2]), bins=np.arange(5300,6100,0.1))"
     ],
     "language": "python",
     "metadata": {},
     "outputs": [
      {
       "metadata": {},
       "output_type": "pyout",
       "prompt_number": 174,
       "text": [
        "(array([ 0.,  0.,  0., ...,  0.,  0.,  0.]),\n",
        " array([ 5300. ,  5300.1,  5300.2, ...,  6099.7,  6099.8,  6099.9]),\n",
        " <a list of 7999 Patch objects>)"
       ]
      },
      {
       "metadata": {},
       "output_type": "display_data",
       "png": "[encoded data removed]",
       "text": [
        "<matplotlib.figure.Figure at 0x171d0fb0>"
       ]
      }
     ],
     "prompt_number": 174
    }
   ],
   "metadata": {}
  }
 ]
}