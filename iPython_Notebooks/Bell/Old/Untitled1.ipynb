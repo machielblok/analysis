{
 "metadata": {
  "name": "",
  "signature": "sha256:95c7662786f1a359920429de23182e09fecb110a00400014da8a80e3d584e96c"
 },
 "nbformat": 3,
 "nbformat_minor": 0,
 "worksheets": [
  {
   "cells": [
    {
     "cell_type": "code",
     "collapsed": false,
     "input": [
      "execfile(r'D:\\measuring\\analysis\\scripts\\setup_analysis.py')\n",
      "folder=tb.latest_data('Bell')\n",
      "timestamp='20140703143844'"
     ],
     "language": "python",
     "metadata": {},
     "outputs": []
    }
   ],
   "metadata": {}
  }
 ]
}