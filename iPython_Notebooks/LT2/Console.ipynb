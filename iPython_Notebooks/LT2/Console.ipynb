{
 "metadata": {
  "name": "",
  "signature": "sha256:29ee73bea6ec82c96b74536a68f600416ae0396ff042b11bdace14e5e44861e7"
 },
 "nbformat": 3,
 "nbformat_minor": 0,
 "worksheets": [
  {
   "cells": [
    {
     "cell_type": "code",
     "collapsed": false,
     "input": [
      "0.343 *1e3"
     ],
     "language": "python",
     "metadata": {},
     "outputs": [
      {
       "metadata": {},
       "output_type": "pyout",
       "prompt_number": 2,
       "text": [
        "343.0"
       ]
      }
     ],
     "prompt_number": 2
    },
    {
     "cell_type": "code",
     "collapsed": false,
     "input": [
      "304.21*1.07 + 15"
     ],
     "language": "python",
     "metadata": {},
     "outputs": [
      {
       "metadata": {},
       "output_type": "pyout",
       "prompt_number": 5,
       "text": [
        "340.5047"
       ]
      }
     ],
     "prompt_number": 5
    },
    {
     "cell_type": "code",
     "collapsed": false,
     "input": [
      "import numpy as np "
     ],
     "language": "python",
     "metadata": {},
     "outputs": [],
     "prompt_number": 6
    },
    {
     "cell_type": "code",
     "collapsed": false,
     "input": [
      "np.arange(33.8e-6,34.2e-6,10e-9)\n"
     ],
     "language": "python",
     "metadata": {},
     "outputs": [
      {
       "metadata": {},
       "output_type": "pyout",
       "prompt_number": 9,
       "text": [
        "array([  3.38000000e-05,   3.38100000e-05,   3.38200000e-05,\n",
        "         3.38300000e-05,   3.38400000e-05,   3.38500000e-05,\n",
        "         3.38600000e-05,   3.38700000e-05,   3.38800000e-05,\n",
        "         3.38900000e-05,   3.39000000e-05,   3.39100000e-05,\n",
        "         3.39200000e-05,   3.39300000e-05,   3.39400000e-05,\n",
        "         3.39500000e-05,   3.39600000e-05,   3.39700000e-05,\n",
        "         3.39800000e-05,   3.39900000e-05,   3.40000000e-05,\n",
        "         3.40100000e-05,   3.40200000e-05,   3.40300000e-05,\n",
        "         3.40400000e-05,   3.40500000e-05,   3.40600000e-05,\n",
        "         3.40700000e-05,   3.40800000e-05,   3.40900000e-05,\n",
        "         3.41000000e-05,   3.41100000e-05,   3.41200000e-05,\n",
        "         3.41300000e-05,   3.41400000e-05,   3.41500000e-05,\n",
        "         3.41600000e-05,   3.41700000e-05,   3.41800000e-05,\n",
        "         3.41900000e-05])"
       ]
      }
     ],
     "prompt_number": 9
    },
    {
     "cell_type": "code",
     "collapsed": false,
     "input": [
      "np.array(range(4,128,4))"
     ],
     "language": "python",
     "metadata": {},
     "outputs": [
      {
       "metadata": {},
       "output_type": "pyout",
       "prompt_number": 10,
       "text": [
        "array([  4,   8,  12,  16,  20,  24,  28,  32,  36,  40,  44,  48,  52,\n",
        "        56,  60,  64,  68,  72,  76,  80,  84,  88,  92,  96, 100, 104,\n",
        "       108, 112, 116, 120, 124])"
       ]
      }
     ],
     "prompt_number": 10
    },
    {
     "cell_type": "code",
     "collapsed": false,
     "input": [
      "np.arange(4,128,4).astype(int)"
     ],
     "language": "python",
     "metadata": {},
     "outputs": [
      {
       "metadata": {},
       "output_type": "pyout",
       "prompt_number": 12,
       "text": [
        "array([  4,   8,  12,  16,  20,  24,  28,  32,  36,  40,  44,  48,  52,\n",
        "        56,  60,  64,  68,  72,  76,  80,  84,  88,  92,  96, 100, 104,\n",
        "       108, 112, 116, 120, 124])"
       ]
      }
     ],
     "prompt_number": 12
    },
    {
     "cell_type": "code",
     "collapsed": false,
     "input": [],
     "language": "python",
     "metadata": {},
     "outputs": []
    }
   ],
   "metadata": {}
  }
 ]
}