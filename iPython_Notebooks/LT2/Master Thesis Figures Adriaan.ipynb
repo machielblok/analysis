{
 "metadata": {
  "name": ""
 },
 "nbformat": 3,
 "nbformat_minor": 0,
 "worksheets": [
  {
   "cells": [
    {
     "cell_type": "code",
     "collapsed": false,
     "input": [
      "import sys\n",
      "import os \n",
      "if os.name == 'posix':\n",
      "    meassdir = r'/Users/'+os.getlogin()+r'/Documents/teamdiamond/'\n",
      "else:\n",
      "    meassdir = r'd:/measuring/'\n",
      "\n",
      "sys.path.append(meassdir)\n",
      "sys.path.append(meassdir+'analysis')\n",
      "sys.path.append(meassdir+'analysis/scripts/QEC_data_analysis/fingerprints/')"
     ],
     "language": "python",
     "metadata": {},
     "outputs": [],
     "prompt_number": 1
    },
    {
     "cell_type": "markdown",
     "metadata": {},
     "source": [
      "## Fingerprint \n",
      "Fingerprint data of the ms+1 transition for N=16 pulses in the range 0 to 20us with carbon 1-4 added with lines\n",
      "\n",
      "Data required: \n",
      "\n",
      "* SSRO Calibartion: 20140419\\\\111949_AdwinSSRO_SSROCalibration_Hans_sil1\n",
      "* Fingerprint data timestamp: 20140419_005744\n",
      "\n"
     ]
    },
    {
     "cell_type": "code",
     "collapsed": false,
     "input": [],
     "language": "python",
     "metadata": {},
     "outputs": [],
     "prompt_number": 5
    },
    {
     "cell_type": "code",
     "collapsed": false,
     "input": [
      "import fingerprint_analysis_N16 as fp16; reload(fp16)\n",
      "fp16.fingerprint()"
     ],
     "language": "python",
     "metadata": {},
     "outputs": [
      {
       "ename": "TypeError",
       "evalue": "unsupported operand type(s) for +: 'NoneType' and 'int'",
       "output_type": "pyerr",
       "traceback": [
        "\u001b[0;31m---------------------------------------------------------------------------\u001b[0m\n\u001b[0;31mTypeError\u001b[0m                                 Traceback (most recent call last)",
        "\u001b[0;32m<ipython-input-6-fe4359ab28f0>\u001b[0m in \u001b[0;36m<module>\u001b[0;34m()\u001b[0m\n\u001b[1;32m      1\u001b[0m \u001b[0;32mimport\u001b[0m \u001b[0mfingerprint_analysis_N16\u001b[0m \u001b[0;32mas\u001b[0m \u001b[0mfp16\u001b[0m\u001b[0;34m;\u001b[0m \u001b[0mreload\u001b[0m\u001b[0;34m(\u001b[0m\u001b[0mfp16\u001b[0m\u001b[0;34m)\u001b[0m\u001b[0;34m\u001b[0m\u001b[0m\n\u001b[0;32m----> 2\u001b[0;31m \u001b[0mfp16\u001b[0m\u001b[0;34m.\u001b[0m\u001b[0mfingerprint\u001b[0m\u001b[0;34m(\u001b[0m\u001b[0;34m)\u001b[0m\u001b[0;34m\u001b[0m\u001b[0m\n\u001b[0m",
        "\u001b[0;32m/Users/Adriaan/Documents/teamdiamond/analysis/scripts/QEC_data_analysis/fingerprints/fingerprint_analysis_N16.pyc\u001b[0m in \u001b[0;36mfingerprint\u001b[0;34m(disp_sim_spin)\u001b[0m\n\u001b[1;32m     35\u001b[0m             \u001b[0mtau_lst\u001b[0m \u001b[0;34m=\u001b[0m \u001b[0mnp\u001b[0m\u001b[0;34m.\u001b[0m\u001b[0mlinspace\u001b[0m\u001b[0;34m(\u001b[0m\u001b[0;36m0\u001b[0m\u001b[0;34m,\u001b[0m\u001b[0;36m72e-6\u001b[0m\u001b[0;34m,\u001b[0m\u001b[0;36m10000\u001b[0m\u001b[0;34m)\u001b[0m\u001b[0;34m\u001b[0m\u001b[0m\n\u001b[1;32m     36\u001b[0m             \u001b[0mMt16\u001b[0m \u001b[0;34m=\u001b[0m \u001b[0mSC\u001b[0m\u001b[0;34m.\u001b[0m\u001b[0mdyn_dec_signal\u001b[0m\u001b[0;34m(\u001b[0m\u001b[0mHF_par\u001b[0m\u001b[0;34m,\u001b[0m\u001b[0mHF_perp\u001b[0m\u001b[0;34m,\u001b[0m\u001b[0mB_Field\u001b[0m\u001b[0;34m,\u001b[0m\u001b[0;36m16\u001b[0m\u001b[0;34m,\u001b[0m\u001b[0mtau_lst\u001b[0m\u001b[0;34m)\u001b[0m\u001b[0;34m\u001b[0m\u001b[0m\n\u001b[0;32m---> 37\u001b[0;31m             \u001b[0mFP_signal16\u001b[0m \u001b[0;34m=\u001b[0m \u001b[0;34m(\u001b[0m\u001b[0;34m(\u001b[0m\u001b[0mMt16\u001b[0m\u001b[0;34m+\u001b[0m\u001b[0;36m1\u001b[0m\u001b[0;34m)\u001b[0m\u001b[0;34m/\u001b[0m\u001b[0;36m2\u001b[0m\u001b[0;34m)\u001b[0m\u001b[0;34m\u001b[0m\u001b[0m\n\u001b[0m\u001b[1;32m     38\u001b[0m \u001b[0;34m\u001b[0m\u001b[0m\n\u001b[1;32m     39\u001b[0m     \u001b[0;31m## Data location ##\u001b[0m\u001b[0;34m\u001b[0m\u001b[0;34m\u001b[0m\u001b[0m\n",
        "\u001b[0;31mTypeError\u001b[0m: unsupported operand type(s) for +: 'NoneType' and 'int'"
       ]
      },
      {
       "output_type": "stream",
       "stream": "stdout",
       "text": [
        "tau larmor = 3.07019208227e-06\n"
       ]
      }
     ],
     "prompt_number": 6
    },
    {
     "cell_type": "markdown",
     "metadata": {},
     "source": [
      "##Carbon Ramsey \n",
      "Ramsey experiment where two sines are superimposed. This is the ramsey without "
     ]
    }
   ],
   "metadata": {}
  }
 ]
}