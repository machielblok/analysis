{
 "metadata": {
  "name": ""
 },
 "nbformat": 3,
 "nbformat_minor": 0,
 "worksheets": [
  {
   "cells": [
    {
     "cell_type": "code",
     "collapsed": false,
     "input": [
      "import sys\n",
      "import os \n",
      "if os.name == 'posix':\n",
      "    meassdir = r'/Users/'+os.getlogin()+r'/Documents/teamdiamond/'\n",
      "else:\n",
      "    meassdir = r'd:/measuring/'\n",
      "\n",
      "sys.path.append(meassdir)\n",
      "sys.path.append(meassdir+'analysis')\n",
      "sys.path.append(meassdir+'analysis/scripts/QEC_data_analysis/fingerprints/')\n",
      "sys.path"
     ],
     "language": "python",
     "metadata": {},
     "outputs": [
      {
       "metadata": {},
       "output_type": "pyout",
       "prompt_number": 1,
       "text": [
        "['',\n",
        " '/Users/Adriaan/anaconda/python.app/Contents/lib/python27.zip',\n",
        " '/Users/Adriaan/anaconda/python.app/Contents/lib/python2.7',\n",
        " '/Users/Adriaan/anaconda/python.app/Contents/lib/python2.7/plat-darwin',\n",
        " '/Users/Adriaan/anaconda/python.app/Contents/lib/python2.7/plat-mac',\n",
        " '/Users/Adriaan/anaconda/python.app/Contents/lib/python2.7/plat-mac/lib-scriptpackages',\n",
        " '/Users/Adriaan/anaconda/python.app/Contents/lib/python2.7/lib-tk',\n",
        " '/Users/Adriaan/anaconda/python.app/Contents/lib/python2.7/lib-old',\n",
        " '/Users/Adriaan/anaconda/python.app/Contents/lib/python2.7/lib-dynload',\n",
        " '/Users/Adriaan/anaconda/lib/python2.7/site-packages',\n",
        " '/Users/Adriaan/anaconda/lib/python2.7/site-packages/PIL',\n",
        " '/Users/Adriaan/anaconda/lib/python2.7/site-packages/setuptools-2.2-py2.7.egg',\n",
        " '/Users/Adriaan/anaconda/lib/python2.7/site-packages/IPython/extensions',\n",
        " '/Users/Adriaan/Documents/teamdiamond/',\n",
        " '/Users/Adriaan/Documents/teamdiamond/analysis',\n",
        " '/Users/Adriaan/Documents/teamdiamond/analysis/scripts/QEC_data_analysis/fingerprints/']"
       ]
      }
     ],
     "prompt_number": 1
    },
    {
     "cell_type": "markdown",
     "metadata": {},
     "source": [
      "## Fingerprint \n",
      "Fingerprint data of the ms+1 transition for N=16 pulses in the range 0 to 20us with carbon 1-4 added with lines\n",
      "\n",
      "Data required: \n",
      "\n",
      "* SSRO Calibartion: 20140419\\\\111949_AdwinSSRO_SSROCalibration_Hans_sil1\n",
      "* Fingerprint data timestamp: 20140419_005744\n",
      "\n"
     ]
    },
    {
     "cell_type": "code",
     "collapsed": false,
     "input": [],
     "language": "python",
     "metadata": {},
     "outputs": [],
     "prompt_number": 1
    },
    {
     "cell_type": "code",
     "collapsed": false,
     "input": [
      "import fingerprint_analysis_N16 as fp16; reload(fp16)\n",
      "fp16.fingerprint()"
     ],
     "language": "python",
     "metadata": {},
     "outputs": [
      {
       "ename": "IOError",
       "evalue": "unable to open file (File accessability: Unable to open file)",
       "output_type": "pyerr",
       "traceback": [
        "\u001b[0;31m---------------------------------------------------------------------------\u001b[0m\n\u001b[0;31mIOError\u001b[0m                                   Traceback (most recent call last)",
        "\u001b[0;32m<ipython-input-2-fe4359ab28f0>\u001b[0m in \u001b[0;36m<module>\u001b[0;34m()\u001b[0m\n\u001b[1;32m      1\u001b[0m \u001b[0;32mimport\u001b[0m \u001b[0mfingerprint_analysis_N16\u001b[0m \u001b[0;32mas\u001b[0m \u001b[0mfp16\u001b[0m\u001b[0;34m;\u001b[0m \u001b[0mreload\u001b[0m\u001b[0;34m(\u001b[0m\u001b[0mfp16\u001b[0m\u001b[0;34m)\u001b[0m\u001b[0;34m\u001b[0m\u001b[0m\n\u001b[0;32m----> 2\u001b[0;31m \u001b[0mfp16\u001b[0m\u001b[0;34m.\u001b[0m\u001b[0mfingerprint\u001b[0m\u001b[0;34m(\u001b[0m\u001b[0;34m)\u001b[0m\u001b[0;34m\u001b[0m\u001b[0m\n\u001b[0m",
        "\u001b[0;32m/Users/Adriaan/Documents/teamdiamond/analysis/scripts/QEC_data_analysis/fingerprints/fingerprint_analysis_N16.pyc\u001b[0m in \u001b[0;36mfingerprint\u001b[0;34m(disp_sim_spin)\u001b[0m\n\u001b[1;32m     46\u001b[0m     \u001b[0mtimestamp\u001b[0m \u001b[0;34m=\u001b[0m\u001b[0;34m'20140419_005744'\u001b[0m\u001b[0;34m\u001b[0m\u001b[0m\n\u001b[1;32m     47\u001b[0m     \u001b[0mssro_calib_folder\u001b[0m \u001b[0;34m=\u001b[0m \u001b[0;34m'Users\\\\Adriaan\\\\Documents\\\\teamdiamond\\\\measuring\\\\data\\\\20140419\\\\111949_AdwinSSRO_SSROCalibration_Hans_sil1'\u001b[0m\u001b[0;34m\u001b[0m\u001b[0m\n\u001b[0;32m---> 48\u001b[0;31m     \u001b[0ma\u001b[0m\u001b[0;34m,\u001b[0m \u001b[0mfolder\u001b[0m \u001b[0;34m=\u001b[0m \u001b[0mload_mult_dat\u001b[0m\u001b[0;34m(\u001b[0m\u001b[0mtimestamp\u001b[0m\u001b[0;34m,\u001b[0m \u001b[0mnumber_of_msmts\u001b[0m \u001b[0;34m=\u001b[0m \u001b[0;36m140\u001b[0m\u001b[0;34m,\u001b[0m \u001b[0mssro_calib_folder\u001b[0m\u001b[0;34m=\u001b[0m\u001b[0mssro_calib_folder\u001b[0m\u001b[0;34m)\u001b[0m\u001b[0;34m\u001b[0m\u001b[0m\n\u001b[0m\u001b[1;32m     49\u001b[0m \u001b[0;34m\u001b[0m\u001b[0m\n\u001b[1;32m     50\u001b[0m \u001b[0;34m\u001b[0m\u001b[0m\n",
        "\u001b[0;32m/Users/Adriaan/Documents/teamdiamond/analysis/scripts/QEC_data_analysis/fingerprints/fingerprint_analysis_N16.pyc\u001b[0m in \u001b[0;36mload_mult_dat\u001b[0;34m(timestamp, number_of_msmts, ssro_calib_folder)\u001b[0m\n\u001b[1;32m    158\u001b[0m        \u001b[0ma\u001b[0m\u001b[0;34m.\u001b[0m\u001b[0mget_sweep_pts\u001b[0m\u001b[0;34m(\u001b[0m\u001b[0;34m)\u001b[0m\u001b[0;34m\u001b[0m\u001b[0m\n\u001b[1;32m    159\u001b[0m        \u001b[0ma\u001b[0m\u001b[0;34m.\u001b[0m\u001b[0mget_readout_results\u001b[0m\u001b[0;34m(\u001b[0m\u001b[0mname\u001b[0m\u001b[0;34m=\u001b[0m\u001b[0;34m'measurement'\u001b[0m \u001b[0;34m+\u001b[0m \u001b[0mstr\u001b[0m\u001b[0;34m(\u001b[0m\u001b[0mkk\u001b[0m\u001b[0;34m)\u001b[0m\u001b[0;34m)\u001b[0m\u001b[0;34m\u001b[0m\u001b[0m\n\u001b[0;32m--> 160\u001b[0;31m        \u001b[0ma\u001b[0m\u001b[0;34m.\u001b[0m\u001b[0mget_electron_ROC\u001b[0m\u001b[0;34m(\u001b[0m\u001b[0mssro_calib_folder\u001b[0m\u001b[0;34m=\u001b[0m\u001b[0mssro_calib_folder\u001b[0m\u001b[0;34m)\u001b[0m\u001b[0;34m\u001b[0m\u001b[0m\n\u001b[0m\u001b[1;32m    161\u001b[0m        \u001b[0mcum_pts\u001b[0m \u001b[0;34m+=\u001b[0m \u001b[0ma\u001b[0m\u001b[0;34m.\u001b[0m\u001b[0mpts\u001b[0m\u001b[0;34m\u001b[0m\u001b[0m\n\u001b[1;32m    162\u001b[0m \u001b[0;34m\u001b[0m\u001b[0m\n",
        "\u001b[0;32m/Users/Adriaan/Documents/teamdiamond/analysis/lib/m2/ssro/mbi.pyc\u001b[0m in \u001b[0;36mget_electron_ROC\u001b[0;34m(self, ssro_calib_folder)\u001b[0m\n\u001b[1;32m    119\u001b[0m             \u001b[0mroc\u001b[0m\u001b[0;34m.\u001b[0m\u001b[0mF0\u001b[0m\u001b[0;34m,\u001b[0m \u001b[0mroc\u001b[0m\u001b[0;34m.\u001b[0m\u001b[0mu_F0\u001b[0m\u001b[0;34m,\u001b[0m \u001b[0mroc\u001b[0m\u001b[0;34m.\u001b[0m\u001b[0mF1\u001b[0m\u001b[0;34m,\u001b[0m \u001b[0mroc\u001b[0m\u001b[0;34m.\u001b[0m\u001b[0mu_F1\u001b[0m \u001b[0;34m=\u001b[0m\u001b[0;31m \u001b[0m\u001b[0;31m\\\u001b[0m\u001b[0;34m\u001b[0m\u001b[0m\n\u001b[1;32m    120\u001b[0m                 ssro.get_SSRO_calibration(ssro_calib_folder, \n\u001b[0;32m--> 121\u001b[0;31m                         ro_durations[i])\n\u001b[0m\u001b[1;32m    122\u001b[0m             p0, u_p0 = roc.num_eval(self.normalized_ssro[:,i],\n\u001b[1;32m    123\u001b[0m                     self.u_normalized_ssro[:,i])\n",
        "\u001b[0;32m/Users/Adriaan/Documents/teamdiamond/analysis/lib/m2/ssro/ssro.pyc\u001b[0m in \u001b[0;36mget_SSRO_calibration\u001b[0;34m(folder, readout_time)\u001b[0m\n\u001b[1;32m     17\u001b[0m \u001b[0;32mdef\u001b[0m \u001b[0mget_SSRO_calibration\u001b[0m\u001b[0;34m(\u001b[0m\u001b[0mfolder\u001b[0m\u001b[0;34m,\u001b[0m \u001b[0mreadout_time\u001b[0m\u001b[0;34m)\u001b[0m\u001b[0;34m:\u001b[0m\u001b[0;34m\u001b[0m\u001b[0m\n\u001b[1;32m     18\u001b[0m     \u001b[0mfp\u001b[0m \u001b[0;34m=\u001b[0m \u001b[0mos\u001b[0m\u001b[0;34m.\u001b[0m\u001b[0mpath\u001b[0m\u001b[0;34m.\u001b[0m\u001b[0mjoin\u001b[0m\u001b[0;34m(\u001b[0m\u001b[0mfolder\u001b[0m\u001b[0;34m,\u001b[0m \u001b[0;34m'analysis.hdf5'\u001b[0m\u001b[0;34m)\u001b[0m\u001b[0;34m\u001b[0m\u001b[0m\n\u001b[0;32m---> 19\u001b[0;31m     \u001b[0mf\u001b[0m \u001b[0;34m=\u001b[0m \u001b[0mh5py\u001b[0m\u001b[0;34m.\u001b[0m\u001b[0mFile\u001b[0m\u001b[0;34m(\u001b[0m\u001b[0mfp\u001b[0m\u001b[0;34m,\u001b[0m \u001b[0;34m'r'\u001b[0m\u001b[0;34m)\u001b[0m\u001b[0;34m\u001b[0m\u001b[0m\n\u001b[0m\u001b[1;32m     20\u001b[0m \u001b[0;34m\u001b[0m\u001b[0m\n\u001b[1;32m     21\u001b[0m     \u001b[0mtimes\u001b[0m \u001b[0;34m=\u001b[0m \u001b[0mf\u001b[0m\u001b[0;34m[\u001b[0m\u001b[0;34m'fidelity/time'\u001b[0m\u001b[0;34m]\u001b[0m\u001b[0;34m.\u001b[0m\u001b[0mvalue\u001b[0m\u001b[0;34m\u001b[0m\u001b[0m\n",
        "\u001b[0;32m/Users/Adriaan/anaconda/lib/python2.7/site-packages/h5py/_hl/files.pyc\u001b[0m in \u001b[0;36m__init__\u001b[0;34m(self, name, mode, driver, libver, userblock_size, **kwds)\u001b[0m\n\u001b[1;32m    205\u001b[0m \u001b[0;34m\u001b[0m\u001b[0m\n\u001b[1;32m    206\u001b[0m             \u001b[0mfapl\u001b[0m \u001b[0;34m=\u001b[0m \u001b[0mmake_fapl\u001b[0m\u001b[0;34m(\u001b[0m\u001b[0mdriver\u001b[0m\u001b[0;34m,\u001b[0m \u001b[0mlibver\u001b[0m\u001b[0;34m,\u001b[0m \u001b[0;34m**\u001b[0m\u001b[0mkwds\u001b[0m\u001b[0;34m)\u001b[0m\u001b[0;34m\u001b[0m\u001b[0m\n\u001b[0;32m--> 207\u001b[0;31m             \u001b[0mfid\u001b[0m \u001b[0;34m=\u001b[0m \u001b[0mmake_fid\u001b[0m\u001b[0;34m(\u001b[0m\u001b[0mname\u001b[0m\u001b[0;34m,\u001b[0m \u001b[0mmode\u001b[0m\u001b[0;34m,\u001b[0m \u001b[0muserblock_size\u001b[0m\u001b[0;34m,\u001b[0m \u001b[0mfapl\u001b[0m\u001b[0;34m)\u001b[0m\u001b[0;34m\u001b[0m\u001b[0m\n\u001b[0m\u001b[1;32m    208\u001b[0m \u001b[0;34m\u001b[0m\u001b[0m\n\u001b[1;32m    209\u001b[0m         \u001b[0mGroup\u001b[0m\u001b[0;34m.\u001b[0m\u001b[0m__init__\u001b[0m\u001b[0;34m(\u001b[0m\u001b[0mself\u001b[0m\u001b[0;34m,\u001b[0m \u001b[0mfid\u001b[0m\u001b[0;34m)\u001b[0m\u001b[0;34m\u001b[0m\u001b[0m\n",
        "\u001b[0;32m/Users/Adriaan/anaconda/lib/python2.7/site-packages/h5py/_hl/files.pyc\u001b[0m in \u001b[0;36mmake_fid\u001b[0;34m(name, mode, userblock_size, fapl, fcpl)\u001b[0m\n\u001b[1;32m     77\u001b[0m \u001b[0;34m\u001b[0m\u001b[0m\n\u001b[1;32m     78\u001b[0m     \u001b[0;32mif\u001b[0m \u001b[0mmode\u001b[0m \u001b[0;34m==\u001b[0m \u001b[0;34m'r'\u001b[0m\u001b[0;34m:\u001b[0m\u001b[0;34m\u001b[0m\u001b[0m\n\u001b[0;32m---> 79\u001b[0;31m         \u001b[0mfid\u001b[0m \u001b[0;34m=\u001b[0m \u001b[0mh5f\u001b[0m\u001b[0;34m.\u001b[0m\u001b[0mopen\u001b[0m\u001b[0;34m(\u001b[0m\u001b[0mname\u001b[0m\u001b[0;34m,\u001b[0m \u001b[0mh5f\u001b[0m\u001b[0;34m.\u001b[0m\u001b[0mACC_RDONLY\u001b[0m\u001b[0;34m,\u001b[0m \u001b[0mfapl\u001b[0m\u001b[0;34m=\u001b[0m\u001b[0mfapl\u001b[0m\u001b[0;34m)\u001b[0m\u001b[0;34m\u001b[0m\u001b[0m\n\u001b[0m\u001b[1;32m     80\u001b[0m     \u001b[0;32melif\u001b[0m \u001b[0mmode\u001b[0m \u001b[0;34m==\u001b[0m \u001b[0;34m'r+'\u001b[0m\u001b[0;34m:\u001b[0m\u001b[0;34m\u001b[0m\u001b[0m\n\u001b[1;32m     81\u001b[0m         \u001b[0mfid\u001b[0m \u001b[0;34m=\u001b[0m \u001b[0mh5f\u001b[0m\u001b[0;34m.\u001b[0m\u001b[0mopen\u001b[0m\u001b[0;34m(\u001b[0m\u001b[0mname\u001b[0m\u001b[0;34m,\u001b[0m \u001b[0mh5f\u001b[0m\u001b[0;34m.\u001b[0m\u001b[0mACC_RDWR\u001b[0m\u001b[0;34m,\u001b[0m \u001b[0mfapl\u001b[0m\u001b[0;34m=\u001b[0m\u001b[0mfapl\u001b[0m\u001b[0;34m)\u001b[0m\u001b[0;34m\u001b[0m\u001b[0m\n",
        "\u001b[0;32m/Users/Adriaan/anaconda/lib/python2.7/site-packages/h5py/h5f.so\u001b[0m in \u001b[0;36mh5py.h5f.open (h5py/h5f.c:1543)\u001b[0;34m()\u001b[0m\n",
        "\u001b[0;31mIOError\u001b[0m: unable to open file (File accessability: Unable to open file)"
       ]
      },
      {
       "output_type": "stream",
       "stream": "stdout",
       "text": [
        "tau larmor = 3.07019208227e-06\n",
        "Mt16:\n",
        "[[ 1.          1.          1.         ...,  0.9541645   0.97961292\n",
        "   0.99595368]\n",
        " [ 1.          1.          1.         ...,  0.99997781  0.99907439\n",
        "   0.99704052]\n",
        " [ 1.          1.          1.         ...,  0.99979964  0.99867841\n",
        "   0.99529066]\n",
        " ..., \n",
        " [ 1.          1.          1.         ...,  0.99973526  0.99996824\n",
        "   0.99997055]\n",
        " [ 1.          1.          1.         ...,  0.99989044  0.99995867\n",
        "   0.99999595]\n",
        " [ 1.          1.          1.         ...,  0.9960359   0.99061312\n",
        "   0.98418463]]\n"
       ]
      }
     ],
     "prompt_number": 2
    },
    {
     "cell_type": "markdown",
     "metadata": {},
     "source": [
      "##Carbon Ramsey \n",
      "Ramsey experiment where two sines are superimposed. This is the ramsey without "
     ]
    },
    {
     "cell_type": "code",
     "collapsed": false,
     "input": [],
     "language": "python",
     "metadata": {},
     "outputs": []
    }
   ],
   "metadata": {}
  }
 ]
}